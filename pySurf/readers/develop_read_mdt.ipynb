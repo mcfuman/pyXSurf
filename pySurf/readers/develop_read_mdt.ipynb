{
 "cells": [
  {
   "cell_type": "code",
   "execution_count": 1,
   "metadata": {},
   "outputs": [
    {
     "data": {
      "text/html": [
       "<script>jQuery(function() {if (jQuery(\"body.notebook_app\").length == 0) { jQuery(\".input_area\").toggle(); jQuery(\".prompt\").toggle();}});</script>"
      ]
     },
     "metadata": {},
     "output_type": "display_data"
    },
    {
     "data": {
      "text/html": [
       "<button onclick=\"jQuery('.input_area').toggle(); jQuery('.prompt').toggle();\">Toggle code</button>"
      ]
     },
     "metadata": {},
     "output_type": "display_data"
    }
   ],
   "source": [
    "from IPython.display import display\n",
    "from IPython.display import HTML\n",
    "import IPython.core.display as di # Example: di.display_html('<h3>%s:</h3>' % str, raw=True)\n",
    "\n",
    "# This line will hide code by default when the notebook is exported as HTML\n",
    "di.display_html('<script>jQuery(function() {if (jQuery(\"body.notebook_app\").length == 0) { jQuery(\".input_area\").toggle(); jQuery(\".prompt\").toggle();}});</script>', raw=True)\n",
    "\n",
    "# This line will add a button to toggle visibility of code blocks, for use with the HTML export version\n",
    "di.display_html('''<button onclick=\"jQuery('.input_area').toggle(); jQuery('.prompt').toggle();\">Toggle code</button>''', raw=True)\n",
    "\n"
   ]
  },
  {
   "cell_type": "code",
   "execution_count": 2,
   "metadata": {},
   "outputs": [
    {
     "name": "stdin",
     "output_type": "stream",
     "text": [
      "Once deleted, variables cannot be recovered. Proceed (y/[n])?  y\n"
     ]
    }
   ],
   "source": [
    "%reset\n",
    "%load_ext autoreload\n",
    "%autoreload 2"
   ]
  },
  {
   "cell_type": "code",
   "execution_count": 3,
   "metadata": {},
   "outputs": [
    {
     "data": {
      "text/plain": [
       "'C:\\\\Users\\\\kovor\\\\Documents\\\\python\\\\pyXTel\\\\pySurf\\\\readers'"
      ]
     },
     "execution_count": 3,
     "metadata": {},
     "output_type": "execute_result"
    }
   ],
   "source": [
    "pwd"
   ]
  },
  {
   "cell_type": "code",
   "execution_count": 3,
   "metadata": {},
   "outputs": [],
   "source": [
    "%qtconsole"
   ]
  },
  {
   "cell_type": "code",
   "execution_count": 4,
   "metadata": {},
   "outputs": [],
   "source": [
    "import os\n",
    "#from format_reader import read_ntmdt\n",
    "import numpy as np\n",
    "from matplotlib import pyplot as plt\n",
    "from pySurf.data2D import plot_data\n",
    "\n",
    "from dataIO.fn_add_subfix import fn_add_subfix\n",
    "\n",
    "# location of test input and output data,\n",
    "#  for economy during development, hard coded path.\n",
    "testfolder=r'..\\readers\\PyMDT\\Test Files' \n",
    "\n",
    "#paths relative to testfolder\n",
    "testdata = r'input_data\\AFM\\POLIMI\\M12 no corona 50 nc_plane sub_20x20.mdt'\n",
    "# testdata = r'input_data\\AFM\\POLIMI\\M12 no corona 50 nc_plane sub_20x20.mdt'\n",
    "testdata = r'input_data\\AFM\\POLIMI\\M12 no corona 50 nc_plane sub_20x20.mdt'\n",
    "\n",
    "outfolder='results'"
   ]
  },
  {
   "cell_type": "raw",
   "metadata": {},
   "source": [
    "# EXAMPLE OF PyMDT object (single frame) \n",
    "{'frm_byte_size': 2102648,\n",
    " 'frm_ptr_start': 33,\n",
    " 'data_size': 262144,\n",
    " 'type': 106,\n",
    " 'version': (7, 3),\n",
    " 'title': 'CalcHeight',\n",
    " 'guids': [\"b'b122cab5d30bbf44ba1dfed63e069f37'\",\n",
    "  \"b'00000000000000000000000000000000'\"],\n",
    " 'year': 2011,\n",
    " 'month': 9,\n",
    " 'day': 22,\n",
    " 'hour': 21,\n",
    " 'min': 28,\n",
    " 'sec': 16,\n",
    " 'data': array([[-1.41527817e-03, -1.37996221e-03, -1.22794223e-03, ...,\n",
    "          4.70344653e-04,  2.88502887e-04,  3.66528027e-04],\n",
    "        [-1.23527392e-03, -1.27560191e-03, -1.23551670e-03, ...,\n",
    "          4.90933078e-04,  7.16680815e-04,  6.76897755e-04],\n",
    "        [-1.11527283e-03, -1.38867093e-03, -1.30803758e-03, ...,\n",
    "          5.63564647e-04,  5.57645542e-04,  5.85806147e-04],\n",
    "        ...,\n",
    "        [-4.18845391e-04, -4.13730160e-04, -4.14135847e-04, ...,\n",
    "          3.78818261e-04,  3.13005062e-04,  7.14123243e-04],\n",
    "        [-2.00076587e-04, -3.83016920e-05,  3.64695082e-05, ...,\n",
    "         -7.00671159e-06,  3.76203861e-04,  4.75172630e-04],\n",
    "        [ 2.27483710e-04,  5.78813106e-05,  7.68715323e-06, ...,\n",
    "         -2.06303945e-04,  1.35037681e-04,  2.71739912e-04]]),\n",
    " 'metadata': '<?xml version=\"1.0\" encoding=\"UTF-16\"?>\\r\\n<FrameComment><TextComment></TextComment><Parameters><Analysis><SubInfo><MethodID>-1</MethodID></SubInfo><FiltInfo><FilterID>-1</FilterID></FiltInfo><DataGUID>{B5CA22B1-0BD3-44BF-BA1D-FED63E069F37}</DataGUID></Analysis><ViewInfo><View2D><DeformX>0</DeformX><DeformY>0</DeformY><DeformZ>0</DeformZ><SetModeXYZ>false</SetModeXYZ></View2D></ViewInfo></Parameters></FrameComment>\\r\\n',\n",
    " 'nb_dimensions': 2,\n",
    " 'dimensions': [{'unit_code': 1,\n",
    "   'accuracy': 0.0,\n",
    "   'bias': 42.52203303940167,\n",
    "   'scale': 0.0068160748531213315,\n",
    "   'min_index': 0,\n",
    "   'max_index': 511,\n",
    "   'data_type': -8,\n",
    "   'name': '',\n",
    "   'comment': '',\n",
    "   'unit': 'um',\n",
    "   'author': ''},\n",
    "  {'unit_code': 1,\n",
    "   'accuracy': 0.0,\n",
    "   'bias': 38.859339610673,\n",
    "   'scale': 0.0068160748531213315,\n",
    "   'min_index': 0,\n",
    "   'max_index': 511,\n",
    "   'data_type': -8,\n",
    "   'name': '',\n",
    "   'comment': '',\n",
    "   'unit': 'um',\n",
    "   'author': ''}],\n",
    " 'dimensions_unit': 'um',\n",
    " 'nb_mesurands': 1,\n",
    " 'mesurands': [{'unit_code': 1,\n",
    "   'accuracy': 0.0,\n",
    "   'bias': 0.0,\n",
    "   'scale': 1.0,\n",
    "   'min_index': 0,\n",
    "   'max_index': 18446744073709551615,\n",
    "   'data_type': -13320,\n",
    "   'name': '',\n",
    "   'comment': '',\n",
    "   'unit': 'um',\n",
    "   'author': ''}],\n",
    " 'mesurands_unit': 'um',\n",
    " 'xn': 512,\n",
    " 'yn': 512,\n",
    " 'xbias': 42.52203303940167,\n",
    " 'ybias': 38.859339610673,\n",
    " 'xreal': 3.4830142499450005,\n",
    " 'yreal': 3.4830142499450005,\n",
    " 'var_size': 0}\n"
   ]
  },
  {
   "cell_type": "code",
   "execution_count": 204,
   "metadata": {},
   "outputs": [],
   "source": [
    "from pySurf.readers.instrumentReader import matrix_reader\n",
    "from pySurf.data2D_class import Data2D\n",
    "\n",
    "# test data from PyMDT\n",
    "testfolder=r'..\\readers\\PyMDT\\Test Files' \n",
    "filenames = [\n",
    "    \"test5.mdt\",\n",
    "    \"f14h20-mica.mdt\",\n",
    "    \"erythrocytes-aa.mdt\",\n",
    "    \"ferrite-garnet_film.mdt\",\n",
    "    \"graphene_2.mdt\",\n",
    "    \"plasmid_dna-aa.mdt\",\n",
    "    \"test_structure.mdt\",\n",
    "    \"curve_test.mdt\",\n",
    "    \"curve_test2.mdt\",\n",
    "]\n",
    "filenames = [os.path.join(testfolder, f) for f in filenames]\n",
    "\n",
    "# add data from demo\n",
    "filenames.append(r'..\\test\\input_data\\AFM\\all data.mdt')\n",
    "filenames.append(r'C:\\Users\\kovor\\Documents\\python\\pyXTel\\pySurf\\test\\input_data\\AFM\\gwyddion_converted\\M12 no corona 50 nc.dat')\n",
    "\n",
    "# add data from polimi  \n",
    "testfolder=r'..\\test\\input_data\\AFM\\POLIMI'\n",
    "filenames.append(os.path.join(testfolder,r'M12 no corona 50 nc.mdt'))\n",
    "filenames.append(os.path.join(testfolder,r'M12 no corona 50 nc_plane sub_20x20.mdt'))\n",
    "f=filenames[10]\n",
    "\n",
    "data,x,y = matrix_reader(f,delimiter='',skip_header=4)\n",
    "D = Data2D(data,x,y,units=['um','um','m'],name=os.path.basename(f))\n",
    "\n"
   ]
  },
  {
   "cell_type": "code",
   "execution_count": 205,
   "metadata": {},
   "outputs": [],
   "source": [
    "plt.figure(1)\n",
    "D.plot(stats=1)\n",
    "plt.show()\n",
    "plt.figure(2)\n",
    "D.level().plot(stats=1)\n",
    "plt.show()\n",
    "plt.figure(3)\n",
    "D.level().level(2,axis=1).plot(stats=1)\n",
    "plt.show()"
   ]
  },
  {
   "cell_type": "code",
   "execution_count": 247,
   "metadata": {},
   "outputs": [
    {
     "name": "stderr",
     "output_type": "stream",
     "text": [
      "WARNING: The fit may be poorly conditioned\n",
      " [astropy.modeling.fitting]\n"
     ]
    },
    {
     "data": {
      "text/plain": [
       "<matplotlib.image.AxesImage at 0x1c331e95898>"
      ]
     },
     "execution_count": 247,
     "metadata": {},
     "output_type": "execute_result"
    }
   ],
   "source": [
    "plt.clf()\n",
    "D = D.level().level(2,axis=1)\n",
    "D.plot()"
   ]
  },
  {
   "cell_type": "code",
   "execution_count": 207,
   "metadata": {},
   "outputs": [],
   "source": [
    "plt.figure('stats')\n",
    "D.histostats(range=[-0.1e-7,0.1e-7]);"
   ]
  },
  {
   "cell_type": "code",
   "execution_count": null,
   "metadata": {},
   "outputs": [],
   "source": [
    " "
   ]
  },
  {
   "cell_type": "code",
   "execution_count": 210,
   "metadata": {},
   "outputs": [
    {
     "data": {
      "text/plain": [
       "<matplotlib.image.AxesImage at 0x1c32e09fd30>"
      ]
     },
     "execution_count": 210,
     "metadata": {},
     "output_type": "execute_result"
    }
   ],
   "source": [
    "plt.figure()\n",
    "D.remove_outliers(nsigma =3).plot()\n"
   ]
  },
  {
   "cell_type": "code",
   "execution_count": 221,
   "metadata": {},
   "outputs": [
    {
     "data": {
      "text/plain": [
       "<matplotlib.image.AxesImage at 0x1c32aedb2e8>"
      ]
     },
     "execution_count": 221,
     "metadata": {},
     "output_type": "execute_result"
    }
   ],
   "source": [
    "#test remove_outliers\n",
    "dl,xl,yl = D()  # leveled data, `data,x,y` are raw data\n",
    "plt.figure()\n",
    "plot_data(remove_outliers(dl,nsigma=3,mask=False),xl,yl)\n"
   ]
  },
  {
   "cell_type": "code",
   "execution_count": 222,
   "metadata": {},
   "outputs": [
    {
     "data": {
      "text/plain": [
       "<matplotlib.image.AxesImage at 0x1c330a0fb38>"
      ]
     },
     "execution_count": 222,
     "metadata": {},
     "output_type": "execute_result"
    }
   ],
   "source": [
    "plt.figure()\n",
    "plot_data(remove_outliers(dl,nsigma=3,mask=True),xl,yl)"
   ]
  },
  {
   "cell_type": "code",
   "execution_count": null,
   "metadata": {},
   "outputs": [],
   "source": [
    "label_image = output_erosion.copy()\n",
    "label_count = 0\n",
    "rows, cols = label_image.shape\n",
    "for j in range(rows):\n",
    "    for i in range(cols):\n",
    "        pixel = label_image[j, i]\n",
    "        if 255 == pixel:\n",
    "            label_count += 1\n",
    "            cv.floodFill(label_image, None, (i, j), label_count)\n",
    "print(\"Number of foreground objects\", label_count)\n",
    "cv.imshow(\"Connected Components\", label_image)"
   ]
  },
  {
   "cell_type": "code",
   "execution_count": 313,
   "metadata": {},
   "outputs": [],
   "source": [
    "D = Data2D(data,xrange=[0,20.08],yrange=[0,20.08],units=['um','um','m'])"
   ]
  },
  {
   "cell_type": "code",
   "execution_count": null,
   "metadata": {},
   "outputs": [],
   "source": [
    "\n",
    "\n",
    "\n",
    "%debug\n",
    "D = Data2D(data,x,y,f,matrix_reader,units=['um','um','m'],name=f,delimiter='',skip_header=4)\n",
    "D = Data2D(f,matrix_reader,units=['um','um','m'],name=f,delimiter='',skip_header=4)\n",
    "D = Data2D(f,matrix_reader,units=['um','um','m'],name=f,delimiter='',skip_header=4)\n",
    "f = filenames[10]\n",
    "data,x,y = matrix_reader(f,delimiter='',skip_header=4)\n",
    "\n",
    "D = Data2D(data,x,y,f,matrix_reader,units=['um','um','m'],name=f,delimiter='',skip_header=4)\n",
    "f = filenames[10]\n",
    "data,x,y = matrix_reader(f,delimiter='',skip_header=4)\n",
    "\n",
    "\n",
    "D = Data2D(f,matrix_reader,units=['um','um','m'],name=f,delimiter='',skip_header=4)"
   ]
  },
  {
   "cell_type": "code",
   "execution_count": null,
   "metadata": {},
   "outputs": [],
   "source": [
    "d = Data2D()\n",
    "d.load(f,matrix=True,skip_header=4,delimiter='')\n",
    "\n",
    "from pySurf.data2D import data_from_txt\n",
    "data_from_txt(f,matrix=True,skip_header=4,delimiter='')  #funziona"
   ]
  },
  {
   "cell_type": "code",
   "execution_count": 282,
   "metadata": {},
   "outputs": [],
   "source": [
    "f = filenames[10]\n",
    "data,x,y = matrix_reader(f,delimiter='',skip_header=4)\n",
    "\n",
    "D = Data2D(data,x,y,units=['um','um','m'],name=f)"
   ]
  },
  {
   "cell_type": "code",
   "execution_count": 246,
   "metadata": {},
   "outputs": [],
   "source": [
    "def show_content(filename):\n",
    "    dl = ntmdt_reader(filename)\n",
    "\n",
    "    from plotting.multiplots import subplot_grid\n",
    "    plt.clf()\n",
    "    fig,axes = subplot_grid(len(dl))\n",
    "    plt.suptitle(\"Content of file %s:\"%os.path.basename(filename))\n",
    "    for d, ax in zip(dl,axes):\n",
    "        plt.sca(ax)\n",
    "        d.plot(stats = 1)\n",
    "\n",
    "    plt.tight_layout()\n"
   ]
  },
  {
   "cell_type": "code",
   "execution_count": 247,
   "metadata": {},
   "outputs": [],
   "source": [
    "import logging\n",
    "logging.getLogger().setLevel(100)  #suppress logger output by changing the threshold for output"
   ]
  },
  {
   "cell_type": "code",
   "execution_count": 250,
   "metadata": {},
   "outputs": [
    {
     "name": "stdout",
     "output_type": "stream",
     "text": [
      "Processing  ..\\readers\\PyMDT\\Test Files\\test5.mdt\n",
      "FAILED\n",
      "Processing  ..\\readers\\PyMDT\\Test Files\\f14h20-mica.mdt\n",
      "Reading file size:  6342825\n",
      "Reading file size:  6342825\n"
     ]
    },
    {
     "data": {
      "image/png": "[encoded data removed]",
      "text/plain": [
       "<Figure size 432x288 with 6 Axes>"
      ]
     },
     "metadata": {
      "needs_background": "light"
     },
     "output_type": "display_data"
    },
    {
     "name": "stdout",
     "output_type": "stream",
     "text": [
      "Processing  ..\\readers\\PyMDT\\Test Files\\erythrocytes-aa.mdt\n",
      "Reading file size:  337945\n",
      "Reading file size:  337945\n",
      "FAILED\n",
      "Processing  ..\\readers\\PyMDT\\Test Files\\ferrite-garnet_film.mdt\n",
      "Reading file size:  920641\n",
      "Reading file size:  920641\n",
      "FAILED\n",
      "Processing  ..\\readers\\PyMDT\\Test Files\\graphene_2.mdt\n",
      "Reading file size:  3003289\n",
      "Reading file size:  3003289\n",
      "FAILED\n",
      "Processing  ..\\readers\\PyMDT\\Test Files\\plasmid_dna-aa.mdt\n",
      "Reading file size:  529241\n",
      "Reading file size:  529241\n",
      "FAILED\n",
      "Processing  ..\\readers\\PyMDT\\Test Files\\test_structure.mdt\n",
      "Reading file size:  151321\n",
      "Reading file size:  151321\n",
      "FAILED\n",
      "Processing  ..\\readers\\PyMDT\\Test Files\\curve_test.mdt\n",
      "FAILED\n",
      "Processing  ..\\readers\\PyMDT\\Test Files\\curve_test2.mdt\n",
      "FAILED\n",
      "Processing  ..\\test\\input_data\\AFM\\all data.mdt\n",
      "FAILED\n",
      "Processing  C:\\Users\\kovor\\Documents\\python\\pyXTel\\pySurf\\test\\input_data\\AFM\\gwyddion_converted.dat\n",
      "FAILED\n",
      "Processing  ..\\test\\input_data\\AFM\\POLIMI\\M12 no corona 50 nc.mdt\n",
      "Reading file size:  4471361\n",
      "Reading file size:  4471361\n",
      "FAILED\n",
      "Processing  ..\\test\\input_data\\AFM\\POLIMI\\M12 no corona 50 nc_plane sub_20x20.mdt\n",
      "Reading file size:  136905\n",
      "Reading file size:  136905\n",
      "FAILED\n"
     ]
    }
   ],
   "source": [
    "# Test on all files\n",
    "for f in filenames:\n",
    "    print(\"Processing \",f)\n",
    "    try:\n",
    "        show_content(f)\n",
    "        plt.show()\n",
    "    except:\n",
    "        print(\"FAILED\")"
   ]
  },
  {
   "cell_type": "code",
   "execution_count": 147,
   "metadata": {},
   "outputs": [],
   "source": [
    "import logging\n",
    "logging.getLogger().setLevel(0)  #suppress logger output by changing the threshold for output"
   ]
  },
  {
   "cell_type": "code",
   "execution_count": 181,
   "metadata": {},
   "outputs": [
    {
     "name": "stderr",
     "output_type": "stream",
     "text": [
      "2020-09-22 15:09:35,114 -- INFO -- Reading frame 0\n"
     ]
    },
    {
     "ename": "error",
     "evalue": "unpack requires a buffer of 2 bytes",
     "output_type": "error",
     "traceback": [
      "\u001b[1;31m---------------------------------------------------------------------------\u001b[0m",
      "\u001b[1;31merror\u001b[0m                                     Traceback (most recent call last)",
      "\u001b[1;32m<ipython-input-181-c48bd563de40>\u001b[0m in \u001b[0;36m<module>\u001b[1;34m\u001b[0m\n\u001b[0;32m      1\u001b[0m \u001b[0mf\u001b[0m \u001b[1;33m=\u001b[0m \u001b[0mfilenames\u001b[0m\u001b[1;33m[\u001b[0m\u001b[1;33m-\u001b[0m\u001b[1;36m2\u001b[0m\u001b[1;33m]\u001b[0m\u001b[1;33m\u001b[0m\u001b[1;33m\u001b[0m\u001b[0m\n\u001b[0;32m      2\u001b[0m \u001b[0mmdt_file\u001b[0m \u001b[1;33m=\u001b[0m \u001b[0mMDTFile\u001b[0m\u001b[1;33m(\u001b[0m\u001b[1;33m)\u001b[0m\u001b[1;33m\u001b[0m\u001b[1;33m\u001b[0m\u001b[0m\n\u001b[1;32m----> 3\u001b[1;33m \u001b[0mmdt_file\u001b[0m\u001b[1;33m.\u001b[0m\u001b[0mload_mdt_file\u001b[0m\u001b[1;33m(\u001b[0m\u001b[0mf\u001b[0m\u001b[1;33m)\u001b[0m\u001b[1;33m\u001b[0m\u001b[1;33m\u001b[0m\u001b[0m\n\u001b[0m",
      "\u001b[1;32m~\\Documents\\python\\pyXTel\\pySurf\\readers\\PyMDT\\MDTfile.py\u001b[0m in \u001b[0;36mload_mdt_file\u001b[1;34m(self, file)\u001b[0m\n\u001b[0;32m    138\u001b[0m \u001b[1;33m\u001b[0m\u001b[0m\n\u001b[0;32m    139\u001b[0m                 \u001b[0mlogging\u001b[0m\u001b[1;33m.\u001b[0m\u001b[0minfo\u001b[0m\u001b[1;33m(\u001b[0m\u001b[1;34m\"Reading frame %d\"\u001b[0m \u001b[1;33m%\u001b[0m \u001b[0mfrm\u001b[0m\u001b[1;33m)\u001b[0m\u001b[1;33m\u001b[0m\u001b[1;33m\u001b[0m\u001b[0m\n\u001b[1;32m--> 140\u001b[1;33m                 \u001b[0mframe\u001b[0m \u001b[1;33m=\u001b[0m \u001b[0mself\u001b[0m\u001b[1;33m.\u001b[0m\u001b[0m_read_frame\u001b[0m\u001b[1;33m(\u001b[0m\u001b[0mfrm\u001b[0m\u001b[1;33m)\u001b[0m\u001b[1;33m\u001b[0m\u001b[1;33m\u001b[0m\u001b[0m\n\u001b[0m\u001b[0;32m    141\u001b[0m                 \u001b[0mself\u001b[0m\u001b[1;33m.\u001b[0m\u001b[0mappend\u001b[0m\u001b[1;33m(\u001b[0m\u001b[0mframe\u001b[0m\u001b[1;33m)\u001b[0m\u001b[1;33m\u001b[0m\u001b[1;33m\u001b[0m\u001b[0m\n\u001b[0;32m    142\u001b[0m \u001b[1;33m\u001b[0m\u001b[0m\n",
      "\u001b[1;32m~\\Documents\\python\\pyXTel\\pySurf\\readers\\PyMDT\\MDTfile.py\u001b[0m in \u001b[0;36m_read_frame\u001b[1;34m(self, num)\u001b[0m\n\u001b[0;32m    176\u001b[0m         \u001b[0mself\u001b[0m\u001b[1;33m.\u001b[0m\u001b[0m_extract_header\u001b[0m\u001b[1;33m(\u001b[0m\u001b[0mframe\u001b[0m\u001b[1;33m)\u001b[0m\u001b[1;33m\u001b[0m\u001b[1;33m\u001b[0m\u001b[0m\n\u001b[0;32m    177\u001b[0m         \u001b[1;32mif\u001b[0m \u001b[0mframe\u001b[0m\u001b[1;33m.\u001b[0m\u001b[0mtype\u001b[0m \u001b[1;33m==\u001b[0m \u001b[0mMDTFrameType\u001b[0m\u001b[1;33m.\u001b[0m\u001b[0mMDT_FRAME_SCANNED\u001b[0m\u001b[1;33m:\u001b[0m\u001b[1;33m\u001b[0m\u001b[1;33m\u001b[0m\u001b[0m\n\u001b[1;32m--> 178\u001b[1;33m             \u001b[0mself\u001b[0m\u001b[1;33m.\u001b[0m\u001b[0m_extract_scanned_frame\u001b[0m\u001b[1;33m(\u001b[0m\u001b[0mframe\u001b[0m\u001b[1;33m)\u001b[0m\u001b[1;33m\u001b[0m\u001b[1;33m\u001b[0m\u001b[0m\n\u001b[0m\u001b[0;32m    179\u001b[0m             \u001b[1;31m#logging.warning(\"Frame #%d: Frame STM not implemented yet.\" % num)\u001b[0m\u001b[1;33m\u001b[0m\u001b[1;33m\u001b[0m\u001b[1;33m\u001b[0m\u001b[0m\n\u001b[0;32m    180\u001b[0m \u001b[1;33m\u001b[0m\u001b[0m\n",
      "\u001b[1;32m~\\Documents\\python\\pyXTel\\pySurf\\readers\\PyMDT\\MDTfile.py\u001b[0m in \u001b[0;36m_extract_scanned_frame\u001b[1;34m(self, frame)\u001b[0m\n\u001b[0;32m    669\u001b[0m             \u001b[0mtmp\u001b[0m \u001b[1;33m=\u001b[0m \u001b[1;33m[\u001b[0m\u001b[1;33m]\u001b[0m\u001b[1;33m\u001b[0m\u001b[1;33m\u001b[0m\u001b[0m\n\u001b[0;32m    670\u001b[0m             \u001b[1;32mfor\u001b[0m \u001b[0mi\u001b[0m \u001b[1;32min\u001b[0m \u001b[0mrange\u001b[0m\u001b[1;33m(\u001b[0m\u001b[1;33m(\u001b[0m\u001b[0mframe\u001b[0m\u001b[1;33m.\u001b[0m\u001b[0mfm_xres\u001b[0m\u001b[1;33m)\u001b[0m \u001b[1;33m*\u001b[0m \u001b[1;33m(\u001b[0m\u001b[0mframe\u001b[0m\u001b[1;33m.\u001b[0m\u001b[0mfm_yres\u001b[0m\u001b[1;33m)\u001b[0m\u001b[1;33m)\u001b[0m\u001b[1;33m:\u001b[0m\u001b[1;33m\u001b[0m\u001b[1;33m\u001b[0m\u001b[0m\n\u001b[1;32m--> 671\u001b[1;33m                 \u001b[0mtmp\u001b[0m\u001b[1;33m.\u001b[0m\u001b[0mappend\u001b[0m\u001b[1;33m(\u001b[0m\u001b[0mself\u001b[0m\u001b[1;33m.\u001b[0m\u001b[0m_file\u001b[0m\u001b[1;33m.\u001b[0m\u001b[0mread_int16\u001b[0m\u001b[1;33m(\u001b[0m\u001b[1;33m)\u001b[0m\u001b[1;33m)\u001b[0m\u001b[1;33m\u001b[0m\u001b[1;33m\u001b[0m\u001b[0m\n\u001b[0m\u001b[0;32m    672\u001b[0m         \u001b[1;31m#pdb.set_trace()\u001b[0m\u001b[1;33m\u001b[0m\u001b[1;33m\u001b[0m\u001b[1;33m\u001b[0m\u001b[0m\n\u001b[0;32m    673\u001b[0m \u001b[1;33m\u001b[0m\u001b[0m\n",
      "\u001b[1;32m~\\Documents\\python\\pyXTel\\pySurf\\readers\\PyMDT\\MDTfile.py\u001b[0m in \u001b[0;36mread_int16\u001b[1;34m(self)\u001b[0m\n\u001b[0;32m     68\u001b[0m         \u001b[1;32mdef\u001b[0m \u001b[0mread_int16\u001b[0m\u001b[1;33m(\u001b[0m\u001b[0mself\u001b[0m\u001b[1;33m)\u001b[0m\u001b[1;33m:\u001b[0m\u001b[1;33m\u001b[0m\u001b[1;33m\u001b[0m\u001b[0m\n\u001b[0;32m     69\u001b[0m             \u001b[1;34m\"\"\"Read a signed integer coded on 2 byte (a short)\"\"\"\u001b[0m\u001b[1;33m\u001b[0m\u001b[1;33m\u001b[0m\u001b[0m\n\u001b[1;32m---> 70\u001b[1;33m             \u001b[1;32mreturn\u001b[0m \u001b[0munpack\u001b[0m\u001b[1;33m(\u001b[0m\u001b[1;34m\"<h\"\u001b[0m\u001b[1;33m,\u001b[0m \u001b[0mself\u001b[0m\u001b[1;33m.\u001b[0m\u001b[0m_file\u001b[0m\u001b[1;33m.\u001b[0m\u001b[0mread\u001b[0m\u001b[1;33m(\u001b[0m\u001b[1;36m2\u001b[0m\u001b[1;33m)\u001b[0m\u001b[1;33m)\u001b[0m\u001b[1;33m[\u001b[0m\u001b[1;36m0\u001b[0m\u001b[1;33m]\u001b[0m\u001b[1;33m\u001b[0m\u001b[1;33m\u001b[0m\u001b[0m\n\u001b[0m\u001b[0;32m     71\u001b[0m \u001b[1;33m\u001b[0m\u001b[0m\n\u001b[0;32m     72\u001b[0m         \u001b[1;32mdef\u001b[0m \u001b[0mread_int32\u001b[0m\u001b[1;33m(\u001b[0m\u001b[0mself\u001b[0m\u001b[1;33m)\u001b[0m\u001b[1;33m:\u001b[0m\u001b[1;33m\u001b[0m\u001b[1;33m\u001b[0m\u001b[0m\n",
      "\u001b[1;31merror\u001b[0m: unpack requires a buffer of 2 bytes"
     ]
    }
   ],
   "source": [
    "f = filenames[-2]\n",
    "mdt_file = MDTFile()\n",
    "mdt_file.load_mdt_file(f)"
   ]
  },
  {
   "cell_type": "code",
   "execution_count": 163,
   "metadata": {},
   "outputs": [
    {
     "name": "stdout",
     "output_type": "stream",
     "text": [
      "b'\\x1em'\n",
      ">e   6221\n",
      ">f   44441414\n",
      ">d   4088828280000000\n",
      "<e   2162\n",
      "<f   14144444\n",
      "<d   0000008082828840\n"
     ]
    }
   ],
   "source": [
    "\"\"\"(Pdb) frame.x_scale\n",
    "[215175.21875, 784.313720703125, 0]\n",
    "\n",
    "(Pdb) frame.y_scale\n",
    "[200563.953125, 784.313720703125, 0]\n",
    "\n",
    "(Pdb) frame.z_scale\n",
    "[4004.12744140625, -0.12219999730587006, 65535]\n",
    "\"\"\"\n",
    "\n",
    "import struct\n",
    "#s = '0b0100000000101001000101111000110101001111110111110011101101100100'\n",
    "#q = int(s, 0)\n",
    "#b8 = struct.pack('Q', q)\n",
    "#struct.unpack('d', b8)[0]\n",
    " \n",
    "val = 5241.43\n",
    "hval = struct.pack('<e',val)\n",
    "print(hval)\n",
    "\n",
    "#e f d\n",
    "formats=['>e','>f','>d','<e','<f','<d']\n",
    "\n",
    "val = 784.313720703125\n",
    "for f in formats:\n",
    "    hval = struct.pack(f,val)\n",
    "    print(f,\" \",hval.hex())"
   ]
  },
  {
   "cell_type": "code",
   "execution_count": null,
   "metadata": {},
   "outputs": [],
   "source": [
    "mdt_file = MDTFile()\n",
    "mdt_file.load_mdt_file(f)"
   ]
  },
  {
   "cell_type": "code",
   "execution_count": null,
   "metadata": {},
   "outputs": [],
   "source": []
  }
 ],
 "metadata": {
  "kernelspec": {
   "display_name": "Python 3",
   "language": "python",
   "name": "python3"
  },
  "language_info": {
   "codemirror_mode": {
    "name": "ipython",
    "version": 3
   },
   "file_extension": ".py",
   "mimetype": "text/x-python",
   "name": "python",
   "nbconvert_exporter": "python",
   "pygments_lexer": "ipython3",
   "version": "3.7.3"
  }
 },
 "nbformat": 4,
 "nbformat_minor": 4
}
