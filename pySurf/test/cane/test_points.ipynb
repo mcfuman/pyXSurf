{
 "cells": [
  {
   "cell_type": "code",
   "execution_count": null,
   "metadata": {},
   "outputs": [],
   "source": [
    "# tests for points routines\n",
    "#2018/02/16 from v1. this is test documentation for points module,\n",
    "# also used as a test on how to generate documentation from notebook \n",
    "# with sphinx\n",
    "# kernel must be reset and output cleared before use or before running\n",
    "# sphinx (unless you know what you are doing).\n",
    "\n",
    "## TODO \n",
    "# - sphinxuse _build for intermediate files (move to docs\\_build)\n",
    "# but savae output in docs(or move it there).\n",
    "# - hide parts of code, add doc string above commands.\n",
    "# - save the results in the noteook (this anyway will prevent \n",
    "#   future executions, so maybe make a copy or a script to clear output\n",
    "#   when sphinx is called).\n",
    "\n",
    "#%reset\n",
    "#%load_ext autoreload\n",
    "#%autoreload 2\n",
    "\n",
    "import matplotlib\n",
    "#matplotlib.use('Agg')\n",
    "import matplotlib.pyplot as plt\n",
    "\n",
    "from pySurf.points import *\n",
    "import os\n",
    "#from calibrate_align import *\n",
    "from dataIO.fn_add_subfix import fn_add_subfix\n"
   ]
  },
  {
   "cell_type": "code",
   "execution_count": null,
   "metadata": {},
   "outputs": [],
   "source": [
    "#avoid the annoying inline figures \n",
    "%matplotlib qt \n",
    "\n",
    "from IPython.display import display\n",
    "plt.ioff()"
   ]
  },
  {
   "cell_type": "code",
   "execution_count": null,
   "metadata": {},
   "outputs": [],
   "source": [
    "#%qtconsole\n",
    "plt.close('all')"
   ]
  },
  {
   "cell_type": "raw",
   "metadata": {
    "raw_mimetype": "text/restructuredtext"
   },
   "source": [
    "Load 8 filenames with all combination of fastaaxis (x|y), and scan direction (+|-) for x and y, According to the table:\n",
    "\n",
    "\n",
    "=========  =======  =======\n",
    "Fast_Axis   X dir    Y dir\n",
    "=========  =======  =======\n",
    " X           \\+        \\+ \n",
    " X           \\+        \\- \n",
    " X           \\-        \\+ \n",
    " X           \\-        \\- \n",
    " Y           \\+        \\+  \n",
    " Y           \\+        \\-  \n",
    " Y           \\-        \\+  \n",
    " Y           \\-        \\-  \n",
    "=========  =======  =======\n",
    "\n"
   ]
  },
  {
   "cell_type": "code",
   "execution_count": null,
   "metadata": {},
   "outputs": [],
   "source": [
    "infolder=r'input_data\\profilometer\\04_test_directions'\n",
    "#outfolder=r'test\\profilometer_scans\\04_test_directions_output'\n",
    "outfolder=r'results\\test_points'\n",
    "testfiles=['05_xysurf_pp_Intensity.txt','06_xysurf_pm_Intensity.txt','07_xysurf_mp_Intensity.txt',\n",
    "          '08_xysurf_mm_Intensity.txt','09_yxsurf_pp_Intensity.txt','10_yxsurf_pm_Intensity.txt',\n",
    "          '11_yxsurf_mp_Intensity.txt','12_yxsurf_mm_Intensity.txt']\n",
    "#definition for subplots\n",
    "n=len(testfiles)\n",
    "a = np.floor(n**0.5).astype(int) #nr of plots on horizontal\n",
    "b = np.ceil(1.*n/a).astype(int) #nr of plots on vertical "
   ]
  },
  {
   "cell_type": "raw",
   "metadata": {
    "raw_mimetype": "text/restructuredtext"
   },
   "source": [
    "Points are read as xyz with ``get_points`` and plot with ``scatter`` to preserve raw data orientation as saved in .txt file "
   ]
  },
  {
   "cell_type": "code",
   "execution_count": null,
   "metadata": {},
   "outputs": [],
   "source": [
    "pwd"
   ]
  },
  {
   "cell_type": "code",
   "execution_count": null,
   "metadata": {},
   "outputs": [],
   "source": [
    "from pySurf.points import plot_points\n",
    "\n",
    "def pp(*args,**kwargs):\n",
    "    figManager = plt.get_current_fig_manager()\n",
    "    figManager.window.showMaximized()\n",
    "    return plot_points(*args,**kwargs)\n",
    "\n",
    "def maximize_plot_function(func):\n",
    "    def f(*args,**kwargs):\n",
    "        result=func(*args,**kwargs)\n",
    "        figManager = plt.get_current_fig_manager()\n",
    "        figManager.window.showMaximized()\n",
    "        plt.tight_layout()\n",
    "        return result\n",
    "    return f\n",
    "\n",
    "def test_maximize():\n",
    "    ff=maximize_plot_function(plot_points)\n",
    "    ff(pts)\n",
    "    plt.figure()\n",
    "    ff2=maximize_plot_function(plot_data)\n",
    "    ff2(*points_autoresample(pts))\n",
    "\n",
    "\n",
    "plt.figure=maximize_plot_function(plt.figure)"
   ]
  },
  {
   "cell_type": "code",
   "execution_count": null,
   "metadata": {},
   "outputs": [],
   "source": [
    "plt.close('all')"
   ]
  },
  {
   "cell_type": "code",
   "execution_count": null,
   "metadata": {
    "scrolled": false
   },
   "outputs": [],
   "source": [
    "m_pts=[]\n",
    "fig=plt.figure(1)\n",
    "plt.clf()\n",
    "plt.suptitle('Simple scatter plot')\n",
    "\n",
    "for i,f in enumerate(testfiles):\n",
    "    pts=get_points(os.path.abspath(os.path.join(infolder,f)),delimiter=',')\n",
    "    m_pts.append(pts)\n",
    "    fig.add_subplot(a,b,i+1)\n",
    "    plot_points(pts,scatter=True,aspect='equal')\n",
    "    plt.title(f)\n",
    "plt.show()\n",
    "plt.savefig(os.path.join(outfolder,'01_scatterPlot.png'))\n",
    "display(plt.gcf())"
   ]
  },
  {
   "cell_type": "code",
   "execution_count": null,
   "metadata": {
    "scrolled": false
   },
   "outputs": [],
   "source": [
    "m_pts=[]\n",
    "fig=plt.figure(2)\n",
    "plt.clf()\n",
    "plt.suptitle('Simple plot with resampling 100x100')\n",
    "\n",
    "for i,f in enumerate(testfiles):\n",
    "    pts=get_points(os.path.join(infolder,f),delimiter=',')\n",
    "    m_pts.append(pts)\n",
    "    fig.add_subplot(a,b,i+1)\n",
    "    plot_points(pts,aspect='equal',shape=(100,100))\n",
    "    plt.title(f)\n",
    "plt.show()\n",
    "plt.savefig(os.path.join(outfolder,'02_simplePlot.png'))\n",
    "display(plt.gcf())"
   ]
  },
  {
   "cell_type": "code",
   "execution_count": null,
   "metadata": {
    "scrolled": false
   },
   "outputs": [],
   "source": [
    "m_pts=[]\n",
    "fig=plt.figure(3)\n",
    "plt.clf()\n",
    "plt.suptitle('Simple plot with resampling 100x100 and centering axis range')\n",
    "\n",
    "for i,f in enumerate(testfiles):\n",
    "    pts=get_points(os.path.join(infolder,f),delimiter=',',center=(0,0))\n",
    "    m_pts.append(pts)\n",
    "    fig.add_subplot(a,b,i+1)\n",
    "    plot_points(pts,aspect='equal',shape=(100,100))\n",
    "    plt.title(f)\n",
    "plt.show()\n",
    "plt.savefig(os.path.join(outfolder,'03_simplePlotCenter.png'))\n",
    "display(plt.gcf())"
   ]
  },
  {
   "cell_type": "code",
   "execution_count": null,
   "metadata": {
    "scrolled": false
   },
   "outputs": [],
   "source": [
    "#test alignment and writing matrix\n",
    "\n",
    "m_pts=[]\n",
    "fig=plt.figure(3)\n",
    "plt.clf()\n",
    "plt.suptitle('Simple plot with resampling 100x100 and alignment')\n",
    "\n",
    "for i,f in enumerate(testfiles):\n",
    "    if i<=3:\n",
    "        s=(1.,-1,1.) #x fast scanning\n",
    "    else:\n",
    "        s=(-1.,-1,1.) #y fast scanning\n",
    "    pts=get_points(os.path.join(infolder,f),delimiter=',',center=(0,0),scale=s)\n",
    "    save_points(os.path.join(outfolder,fn_add_subfix(f,'_matrix')),pts,matrix=True,shape=(100,100))\n",
    "    m_pts.append(pts)\n",
    "    fig.add_subplot(a,b,i+1)\n",
    "    plot_points(pts,aspect='equal',shape=(100,100))\n",
    "    plt.title(f)\n",
    "plt.show()\n",
    "plt.savefig(os.path.join(outfolder,'03_simplePlotCenter.png'))\n",
    "display(plt.gcf())"
   ]
  },
  {
   "cell_type": "code",
   "execution_count": null,
   "metadata": {},
   "outputs": [],
   "source": [
    "xr,yr=span(pts[:,0]),span(pts[:,1])"
   ]
  },
  {
   "cell_type": "code",
   "execution_count": null,
   "metadata": {},
   "outputs": [],
   "source": [
    "#test reading matrix and alignment. If range is not provided matrix index is\n",
    "#  used, otherwise range is used and translated so that center of image has coordinates center. \n",
    "\n",
    "m_pts=[]\n",
    "fig=plt.figure(4)\n",
    "plt.clf()\n",
    "plt.suptitle('Read matrix - center = (2,2)')\n",
    "\n",
    "for i,f in enumerate(testfiles):\n",
    "    pts=get_points(os.path.join(outfolder,fn_add_subfix(f,'_matrix')),center=(2,2),matrix=1,\n",
    "                  addaxis=True,x=xr,y=yr,delimiter=' ') #default delimiter is ','\n",
    "    m_pts.append(pts)\n",
    "    fig.add_subplot(a,b,i+1)\n",
    "    plot_points(pts,aspect='equal',shape=(100,100))\n",
    "    plt.title(f)\n",
    "plt.show()\n",
    "plt.savefig(os.path.join(outfolder,'04_simplePlotCenter.png'))\n",
    "display(plt.gcf())"
   ]
  },
  {
   "cell_type": "code",
   "execution_count": null,
   "metadata": {},
   "outputs": [],
   "source": [
    "#%qtconsole"
   ]
  },
  {
   "cell_type": "code",
   "execution_count": null,
   "metadata": {},
   "outputs": [],
   "source": [
    "#test on a single set of points. Points are put in random order and \n",
    "# data are plotted\n",
    "\n",
    "s=(1.,-1,1.) #x fast scanning\n",
    "pts=get_points(os.path.join(infolder,testfiles[2]),delimiter=',',center=(0,0),scale=s)"
   ]
  },
  {
   "cell_type": "code",
   "execution_count": null,
   "metadata": {},
   "outputs": [],
   "source": [
    "fax,shape=points_find_grid(pts)\n",
    "print (fax)\n",
    "print (shape)\n",
    "xr,yr=span(pts[:,0]),span(pts[:,1])\n",
    "xg=np.linspace(xr[0],xr[1],shape[0])\n",
    "yg=np.linspace(yr[0],yr[1],shape[1])"
   ]
  },
  {
   "cell_type": "code",
   "execution_count": null,
   "metadata": {},
   "outputs": [],
   "source": [
    "fig=plt.figure(5)\n",
    "plt.clf()\n",
    "plt.suptitle('Resampling test')\n",
    "plt.subplot(131)\n",
    "plt.title('Original, scatter plot')\n",
    "plot_points(pts,scatter=1,aspect='equal')\n",
    "ax1=plt.gca()\n",
    "plt.subplot(132,sharex=ax1,sharey=ax1)\n",
    "plt.title('Resampled, scatter plot')\n",
    "pp=resample_grid(pts,xg,yg)\n",
    "plot_points(pp,scatter=1,aspect='equal')\n",
    "plt.subplot(133,sharex=ax1,sharey=ax1)\n",
    "plt.title('Original, plot on grid')\n",
    "plot_points(pp,shape=shape,aspect='equal')\n",
    "plt.savefig(os.path.join(outfolder,'05_resampling.png'))\n",
    "display(plt.gcf())"
   ]
  },
  {
   "cell_type": "code",
   "execution_count": null,
   "metadata": {},
   "outputs": [],
   "source": [
    "i=np.random.permutation(pts.shape[0])\n",
    "pts=pts[i,:]\n",
    "\n",
    "fig=plt.figure(6)\n",
    "plt.clf()\n",
    "plt.suptitle('randomly sorted points (no raster)')\n",
    "plt.subplot(131)\n",
    "plt.title('Original, scatter plot')\n",
    "plot_points(pts,scatter=1,aspect='equal')\n",
    "ax1=plt.gca()\n",
    "plt.subplot(132,sharex=ax1,sharey=ax1)\n",
    "plt.title('Resampled, scatter plot')\n",
    "pp=resample_grid(pts,xg,yg)\n",
    "plot_points(pp,scatter=1,aspect='equal')\n",
    "plt.subplot(133,sharex=ax1,sharey=ax1)\n",
    "plt.title('Original, plot on grid')\n",
    "plot_points(pp,shape=shape,aspect='equal')\n",
    "plt.savefig(os.path.join(outfolder,'06_unsorted_points.png'))\n",
    "display(plt.gcf())"
   ]
  },
  {
   "cell_type": "code",
   "execution_count": null,
   "metadata": {},
   "outputs": [],
   "source": [
    "# rebin points\n",
    "\n",
    "s=(1.,-1,1.) #x fast scanning\n",
    "pts=get_points(os.path.join(infolder,testfiles[2]),delimiter=',',center=(0,0),scale=s)\n",
    "\n",
    "fax,shape=points_find_grid(pts)\n",
    "print (fax)\n",
    "print (shape)\n",
    "xr,yr=span(pts[:,0]),span(pts[:,1])\n",
    "xg=np.linspace(xr[0],xr[1],shape[0])\n",
    "yg=np.linspace(yr[0],yr[1],shape[1])"
   ]
  },
  {
   "cell_type": "code",
   "execution_count": null,
   "metadata": {},
   "outputs": [],
   "source": [
    "nbins=20\n",
    "\n",
    "fig=plt.figure(7)\n",
    "plt.clf()\n",
    "plt.suptitle('Rebinning test')\n",
    "plt.subplot(131)\n",
    "plt.title('Original, scatter plot')\n",
    "plot_points(pts,scatter=1,aspect='equal')\n",
    "ax1=plt.gca()\n",
    "plt.subplot(132,sharex=ax1,sharey=ax1)\n",
    "plt.title('Rebinned, scatter plot')\n",
    "pp=rebin_points(pts,bins=nbins)\n",
    "plot_points(pp,scatter=1,aspect='equal')\n",
    "plt.subplot(133,sharex=ax1,sharey=ax1)\n",
    "plt.title('Original, plot on grid')\n",
    "plot_points(pp,shape=shape,aspect='equal')\n",
    "plt.savefig(os.path.join(outfolder,'07_rebinning.png'))\n",
    "display(plt.gcf())"
   ]
  },
  {
   "cell_type": "markdown",
   "metadata": {
    "collapsed": true
   },
   "source": [
    "## rotate and rebin"
   ]
  },
  {
   "cell_type": "code",
   "execution_count": null,
   "metadata": {},
   "outputs": [],
   "source": [
    "pts2=rotate_points(pts,45*np.pi/180)  #rotate 45 degrees\n",
    "pts3=rebin_points(pts2,bins=nbins)\n",
    "\n",
    "fig=plt.figure(8)\n",
    "plt.clf()\n",
    "plt.suptitle('Rotate and rebin test')\n",
    "plt.subplot(131)\n",
    "plt.title('Original, scatter plot')\n",
    "plot_points(pts,scatter=1,aspect='equal')\n",
    "ax1=plt.gca()\n",
    "plt.subplot(132,sharex=ax1,sharey=ax1)\n",
    "plt.title('Rotated')\n",
    "plot_points(pts2,scatter=1,aspect='equal')\n",
    "plt.subplot(133,sharex=ax1,sharey=ax1)\n",
    "plt.title('Rotated and rebinned, scatterplot')\n",
    "plot_points(pts3,scatter=1,aspect='equal')\n",
    "plt.savefig(os.path.join(outfolder,'08_rotateandrebin.png'))\n",
    "display(plt.gcf())"
   ]
  },
  {
   "cell_type": "code",
   "execution_count": null,
   "metadata": {},
   "outputs": [],
   "source": [
    "plt.close('all')"
   ]
  },
  {
   "cell_type": "code",
   "execution_count": null,
   "metadata": {},
   "outputs": [],
   "source": []
  },
  {
   "cell_type": "code",
   "execution_count": null,
   "metadata": {},
   "outputs": [],
   "source": []
  }
 ],
 "metadata": {
  "celltoolbar": "Raw Cell Format",
  "kernelspec": {
   "display_name": "py36",
   "language": "python",
   "name": "py36"
  },
  "language_info": {
   "codemirror_mode": {
    "name": "ipython",
    "version": 3
   },
   "file_extension": ".py",
   "mimetype": "text/x-python",
   "name": "python",
   "nbconvert_exporter": "python",
   "pygments_lexer": "ipython3",
   "version": "3.6.4"
  }
 },
 "nbformat": 4,
 "nbformat_minor": 1
}
