{
 "cells": [
  {
   "cell_type": "markdown",
   "metadata": {},
   "source": [
    "I keep different works in different folders examples are face_recognition, language_recognition... Initially I develop programs in files or notebook, then I move out common functions in separate file.\n",
    "\n",
    "Convenience of one file<->module, multiple functions per file.\n",
    "test are developed in workdir, they can be moved. \n"
   ]
  },
  {
   "cell_type": "code",
   "execution_count": null,
   "metadata": {
    "collapsed": true
   },
   "outputs": [],
   "source": [
    "def span(*args,**kwargs):\n",
    "    from dataIO.span import span\n",
    "    print \"module span was moved to dataIO, please update inport in code as from dataIO.span import span.\"\n",
    "    return span (*args,**kwargs)"
   ]
  }
 ],
 "metadata": {
  "kernelspec": {
   "display_name": "Python 2",
   "language": "python",
   "name": "python2"
  },
  "language_info": {
   "codemirror_mode": {
    "name": "ipython",
    "version": 2
   },
   "file_extension": ".py",
   "mimetype": "text/x-python",
   "name": "python",
   "nbconvert_exporter": "python",
   "pygments_lexer": "ipython2",
   "version": "2.7.11"
  }
 },
 "nbformat": 4,
 "nbformat_minor": 0
}
