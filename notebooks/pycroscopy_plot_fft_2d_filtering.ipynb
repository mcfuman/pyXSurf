{
 "cells": [
  {
   "cell_type": "code",
   "execution_count": 1,
   "metadata": {},
   "outputs": [],
   "source": [
    "%matplotlib inline"
   ]
  },
  {
   "cell_type": "markdown",
   "metadata": {},
   "source": [
    "\n",
    "======================================================================================\n",
    "FFT & Filtering of Atomically Resolved Images\n",
    "======================================================================================\n",
    "\n",
    "**Stephen Jesse and Suhas Somnath**\n",
    "\n",
    "* Institute for Functional Imaging of Materials\n",
    "* Center for Nanophase Materials Sciences\n",
    "\n",
    "Oak Ridge National Laboratory, Oak Ridge TN 37831, USA\n",
    "\n",
    "9/28/2015\n",
    "\n",
    "Fourier transforms offer a very fast and convenient means to analyze and filter \n",
    "multidimensional data including images. The power of the Fast Fourier Transform \n",
    "(FFT) is due in part to (as the name suggests) its speed and also to the fact that \n",
    "complex operations such as convolution and differentiation/integration are made much \n",
    "simpler when performed in the Fourier domain. For instance, convolution in the real \n",
    "space domain can be performed using multiplication in the Fourier domain, and \n",
    "differentiation/integration in the real space domain can be performed by \n",
    "multiplying/dividing by iω in the Fourier domain (where ω is the transformed variable). \n",
    "We will take advantage of these properties and demonstrate simple image filtering and \n",
    "convolution with example.   \n",
    "\n",
    "A few properties/uses of FFT’s are worth reviewing.\n",
    "\n",
    "In this example we will load an image, Fourier transform it, apply a smoothing filter, and transform it back.\n",
    "\n"
   ]
  },
  {
   "cell_type": "code",
   "execution_count": null,
   "metadata": {},
   "outputs": [],
   "source": [
    "from __future__ import division, unicode_literals, print_function\n",
    "import matplotlib.pyplot as plt\n",
    "import numpy as np\n",
    "import numpy.fft as npf\n",
    "import os\n",
    "import subprocess\n",
    "import sys\n",
    "\n",
    "def install(package):\n",
    "    subprocess.call([sys.executable, \"-m\", \"pip\", \"install\", package])\n",
    "# for downloading files:\n",
    "try:\n",
    "    # This package is not part of anaconda and may need to be installed.\n",
    "    import wget\n",
    "except ImportError:\n",
    "    print('wget not found.  Will install with pip.')\n",
    "    import pip\n",
    "    install('wget')\n",
    "    import wget\n",
    "try:\n",
    "    import pyUSID as usid\n",
    "except ImportError:\n",
    "    print('pyUSID not found.  Will install with pip.')\n",
    "    import pip\n",
    "    install('pyUSID')\n",
    "    import pyUSID as usid"
   ]
  },
  {
   "cell_type": "markdown",
   "metadata": {},
   "source": [
    "We will be using an image available on our GitHub project page by default. You are encouraged\n",
    "to download this document as a Jupyter Notebook (button at the bottom of the page) and use your own image instead.\n",
    "When using your own image, you can skip this cell and provide the path to your data using the variable -\n",
    "data_file_path\n",
    "\n",
    "Coming back to our example, lets start by downloading the file from GitHub:\n",
    "\n"
   ]
  },
  {
   "cell_type": "code",
   "execution_count": null,
   "metadata": {},
   "outputs": [],
   "source": [
    "data_file_path = 'temp_STEM_STO.txt'\n",
    "# download the data file from Github:\n",
    "url = 'https://raw.githubusercontent.com/pycroscopy/pycroscopy/master/data/STEM_STO_2_20.txt'\n",
    "_ = wget.download(url, data_file_path, bar=None)"
   ]
  },
  {
   "cell_type": "markdown",
   "metadata": {},
   "source": [
    "The image is stored as a tab delimited text file. One can load its contents to memory by using the following command:\n",
    "\n"
   ]
  },
  {
   "cell_type": "code",
   "execution_count": null,
   "metadata": {},
   "outputs": [],
   "source": [
    "image_raw = np.loadtxt(data_file_path, dtype='str', delimiter='\\t')\n",
    "\n",
    "# delete the temporarily downloaded file:\n",
    "os.remove(data_file_path)\n",
    "\n",
    "# convert the file from a string array to a numpy array of floating point numbers\n",
    "image_raw = np.array(image_raw)\n",
    "image_raw = image_raw[0:, 0:-1].astype(np.float)"
   ]
  },
  {
   "cell_type": "markdown",
   "metadata": {},
   "source": [
    "Prior to transforming, it is sometimes convenient to set the image mean to zero, \n",
    "because if the mean value of an image is large, the magnitude of the zero-frequency \n",
    "bin can dominate over the other signals of interest. \n",
    "\n"
   ]
  },
  {
   "cell_type": "code",
   "execution_count": null,
   "metadata": {},
   "outputs": [],
   "source": [
    "image_raw = image_raw - np.mean(image_raw)  # subtract out the mean of the image"
   ]
  },
  {
   "cell_type": "markdown",
   "metadata": {},
   "source": [
    "An important aspect of performing Fourier transforms is keeping track of units \n",
    "between transformations and also being aware of conventions used with regard to\n",
    "the locations of the image centers and extents when transformed. Below is code \n",
    "that builds the axes in the space domain of the original image. \n",
    "\n"
   ]
  },
  {
   "cell_type": "code",
   "execution_count": null,
   "metadata": {},
   "outputs": [],
   "source": [
    "x_pixels, y_pixels = np.shape(image_raw)  # [pixels]\n",
    "x_edge_length = 5.0  # [nm]\n",
    "y_edge_length = 5.0  # [nm]\n",
    "x_sampling = x_pixels / x_edge_length  # [pixels/nm]\n",
    "y_sampling = y_pixels / y_edge_length  # [pixels/nm]\n",
    "x_axis_vec = np.linspace(-x_edge_length / 2, x_edge_length / 2, x_pixels)  # vector of locations along x-axis\n",
    "y_axis_vec = np.linspace(-y_edge_length / 2, y_edge_length / 2, y_pixels)  # vector of locations along y-axis\n",
    "x_mat, y_mat = np.meshgrid(x_axis_vec, y_axis_vec)  # matrices of x-positions and y-positions"
   ]
  },
  {
   "cell_type": "markdown",
   "metadata": {},
   "source": [
    "Similarly, the axes in the Fourier domain are defined below. Note, that since \n",
    "the number of pixels along an axis is even, a convention must be followed as to \n",
    "which side of the halfway point the zero-frequency bin is located. In Matlab, the \n",
    "zero frequency bin is located to the left of the halfway point. Therefore the axis \n",
    "extends from -ω_sampling/2 to one frequency bin less than +ω_sampling/2.\n",
    "\n"
   ]
  },
  {
   "cell_type": "code",
   "execution_count": null,
   "metadata": {},
   "outputs": [],
   "source": [
    "u_max = x_sampling / 2\n",
    "v_max = y_sampling / 2\n",
    "u_axis_vec = np.linspace(-u_max / 2, u_max / 2, x_pixels)\n",
    "v_axis_vec = np.linspace(-v_max / 2, v_max / 2, y_pixels)\n",
    "u_mat, v_mat = np.meshgrid(u_axis_vec, v_axis_vec)  # matrices of u-positions and v-positions"
   ]
  },
  {
   "cell_type": "markdown",
   "metadata": {},
   "source": [
    "A plot of the data is shown below (STEM image of STO).\n",
    "\n"
   ]
  },
  {
   "cell_type": "code",
   "execution_count": null,
   "metadata": {},
   "outputs": [],
   "source": [
    "fig, axis = plt.subplots(figsize=(5, 5))\n",
    "_ = usid.plot_utils.plot_map(axis, image_raw, cmap=plt.cm.inferno, clim=[0, 6],\n",
    "                           x_vec=x_axis_vec, y_vec=y_axis_vec, num_ticks=5)\n",
    "axis.set_title('original image of STO captured via STEM')"
   ]
  },
  {
   "cell_type": "markdown",
   "metadata": {},
   "source": [
    "The Fourier transform can be determined with one line of code:\n",
    "\n"
   ]
  },
  {
   "cell_type": "code",
   "execution_count": null,
   "metadata": {},
   "outputs": [],
   "source": [
    "fft_image_raw = npf.fft2(image_raw)"
   ]
  },
  {
   "cell_type": "markdown",
   "metadata": {},
   "source": [
    "Plotting the magnitude 2D-FFT on a vertical log scales shows something unexpected:\n",
    "there appears to be peaks at the corners and no information at the center. \n",
    "This is because the output for the ‘fft2’ function flips the frequency axes so \n",
    "that low frequencies are at the ends, and the highest frequency is in the middle. \n",
    "\n"
   ]
  },
  {
   "cell_type": "code",
   "execution_count": null,
   "metadata": {},
   "outputs": [],
   "source": [
    "fig, axis = plt.subplots(figsize=(5, 5))\n",
    "_ = usid.plot_utils.plot_map(axis, np.abs(fft_image_raw), cmap=plt.cm.OrRd, clim=[0, 3E+3])\n",
    "axis.set_title('FFT2 of image')"
   ]
  },
  {
   "cell_type": "markdown",
   "metadata": {},
   "source": [
    "To correct this, use the ‘fftshift’ command. \n",
    "fftshift brings the lowest frequency components of the FFT back to the center of the plot\n",
    "\n"
   ]
  },
  {
   "cell_type": "code",
   "execution_count": null,
   "metadata": {},
   "outputs": [],
   "source": [
    "fft_image_raw = npf.fftshift(fft_image_raw)\n",
    "fft_abs_image_raw = np.abs(fft_image_raw)\n",
    "\n",
    "\n",
    "def crop_center(image, cent_size=128):\n",
    "    return image[image.shape[0]//2 - cent_size // 2: image.shape[0]//2 + cent_size // 2,\n",
    "                 image.shape[1]//2 - cent_size // 2: image.shape[1]//2 + cent_size // 2]\n",
    "\n",
    "\n",
    "# After the fftshift, the FFT looks right\n",
    "fig, axes = plt.subplots(ncols=2, figsize=(10, 5))\n",
    "for axis, img, title in zip(axes, [fft_abs_image_raw, crop_center(fft_abs_image_raw)], ['FFT after fftshift-ing',\n",
    "                                                                                        'Zoomed view around origin']):\n",
    "    _ = usid.plot_utils.plot_map(axis, img, cmap=plt.cm.OrRd, clim=[0, 1E+4])\n",
    "    axis.set_title(title)\n",
    "fig.tight_layout()"
   ]
  },
  {
   "cell_type": "markdown",
   "metadata": {},
   "source": [
    "The first filter we want to make is a 2D, radially symmetric, low-pass Gaussian filter. \n",
    "To start with, it is helpful to redefine the Fourier domain in polar coordinates to make\n",
    "building the radially symmetric function easier. \n",
    "\n"
   ]
  },
  {
   "cell_type": "code",
   "execution_count": null,
   "metadata": {},
   "outputs": [],
   "source": [
    "r = np.sqrt(u_mat**2+v_mat**2) # convert cartesian coordinates to polar radius"
   ]
  },
  {
   "cell_type": "markdown",
   "metadata": {},
   "source": [
    "An expression for the filter is given below. Note, the width of the filter is defined in\n",
    "terms of the real space dimensions for ease of use.  \n",
    "\n"
   ]
  },
  {
   "cell_type": "code",
   "execution_count": null,
   "metadata": {},
   "outputs": [],
   "source": [
    "filter_width = .15  # inverse width of gaussian, units same as real space axes\n",
    "gauss_filter = np.e**(-(r*filter_width)**2)\n",
    "\n",
    "fig, axes = plt.subplots(ncols=2, figsize=(10, 5))\n",
    "_ = usid.plot_utils.plot_map(axes[0], gauss_filter, cmap=plt.cm.OrRd)\n",
    "axes[0].set_title('Gaussian filter')\n",
    "axes[1].plot(gauss_filter[gauss_filter.shape[0]//2])\n",
    "axes[1].set_title('Cross section of filter')\n",
    "fig.tight_layout()"
   ]
  },
  {
   "cell_type": "markdown",
   "metadata": {},
   "source": [
    "Application of the filter to the data in the Fourier domain is done simply by \n",
    "dot-multiplying the two matrices.  \n",
    "\n"
   ]
  },
  {
   "cell_type": "code",
   "execution_count": null,
   "metadata": {},
   "outputs": [],
   "source": [
    "F_m1_filtered = gauss_filter * fft_image_raw"
   ]
  },
  {
   "cell_type": "markdown",
   "metadata": {},
   "source": [
    "To view the filtered data in the space domain, simply use the inverse fast Fourier transform\n",
    "(‘ifft2’). Remember though that python expects low frequency components at the corners, so \n",
    "it is necessary to use the inverse of the ‘fftshift’ command (‘ifftshift’) before performing\n",
    "the inverse transform. Also, note that even though theoretically there should be no imaginary\n",
    "components in the inverse transformed data (because we multiplied two matrices together that\n",
    "were both symmetric about 0), some of the numerical manipulations create small round-off \n",
    "errors that result in the inverse transformed data being complex (the imaginary component is\n",
    "~1X1016  times smaller than the real part). In order to account for this, only the real part\n",
    "of the result is kept.    \n",
    "\n"
   ]
  },
  {
   "cell_type": "code",
   "execution_count": null,
   "metadata": {},
   "outputs": [],
   "source": [
    "image_filtered = npf.ifft2(npf.ifftshift(F_m1_filtered))\n",
    "image_filtered = np.real(image_filtered)\n",
    "\n",
    "fig, axes = plt.subplots(ncols=2, figsize=(10, 5))\n",
    "for axis, img, title in zip(axes, [image_raw, image_filtered], ['original', 'filtered']):\n",
    "    _ = usid.plot_utils.plot_map(axis, img, cmap=plt.cm.inferno,\n",
    "                               x_vec=x_axis_vec, y_vec=y_axis_vec, num_ticks=5)\n",
    "    axis.set_title(title)\n",
    "fig.tight_layout()"
   ]
  },
  {
   "cell_type": "markdown",
   "metadata": {},
   "source": [
    "Filtering can also be used to help flatten an image. To demonstrate this, let’s artificially\n",
    "add a background to the original image, and later try to remove it.\n",
    "\n"
   ]
  },
  {
   "cell_type": "code",
   "execution_count": null,
   "metadata": {},
   "outputs": [],
   "source": [
    "background_distortion = 0.2 * (x_mat + y_mat + np.sin(2 * np.pi * x_mat / x_edge_length))\n",
    "image_w_background = image_raw + background_distortion\n",
    "\n",
    "fig, axes = plt.subplots(figsize=(10, 5), ncols=2)\n",
    "for axis, img, title in zip(axes, [background_distortion, image_w_background], ['background', 'image with background']):\n",
    "    _ = usid.plot_utils.plot_map(axis, img, cmap=plt.cm.inferno,\n",
    "                               x_vec=x_axis_vec, y_vec=y_axis_vec, num_ticks=5)\n",
    "    axis.set_title(title)\n",
    "fig.tight_layout()"
   ]
  },
  {
   "cell_type": "markdown",
   "metadata": {},
   "source": [
    "Since large scale background distortions (such as tilting and bowing) are primarily low\n",
    "frequency information. We can make a filter to get rid of the lowest frequency components. \n",
    "Here we again use a radially symmetric 2D Gaussian, however in this case we invert it so \n",
    "that it is zero at low frequencies and 1 at higher frequencies.\n",
    "\n"
   ]
  },
  {
   "cell_type": "code",
   "execution_count": null,
   "metadata": {},
   "outputs": [],
   "source": [
    "filter_width = 2  # inverse width of gaussian, units same as real space axes\n",
    "inverse_gauss_filter = 1-np.e**(-(r*filter_width)**2)\n",
    "\n",
    "fig, axis = plt.subplots()\n",
    "_ = usid.plot_utils.plot_map(axis, inverse_gauss_filter, cmap=plt.cm.OrRd)\n",
    "axis.set_title('background filter')"
   ]
  },
  {
   "cell_type": "markdown",
   "metadata": {},
   "source": [
    "Let's perform the same process of taking the FFT of the image, multiplying with the filter\n",
    "and taking the inverse Fourier transform of the image to get the filtered image. \n",
    "\n"
   ]
  },
  {
   "cell_type": "code",
   "execution_count": null,
   "metadata": {},
   "outputs": [],
   "source": [
    "# take the fft of the image\n",
    "fft_image_w_background = npf.fftshift(npf.fft2(image_w_background))\n",
    "fft_abs_image_background = np.abs(fft_image_w_background)\n",
    "\n",
    "# apply the filter\n",
    "fft_image_corrected = fft_image_w_background * inverse_gauss_filter\n",
    "\n",
    "# perform the inverse fourier transform on the filtered data\n",
    "image_corrected = np.real(npf.ifft2(npf.ifftshift(fft_image_corrected)))\n",
    "\n",
    "# find what was removed from the image by filtering\n",
    "filtered_background = image_w_background - image_corrected\n",
    "\n",
    "fig, axes = plt.subplots(ncols=2, figsize=(10, 5))\n",
    "for axis, img, title in zip(axes, [image_corrected, filtered_background],\n",
    "                            ['image with background subtracted', \n",
    "                             'background component that was removed']):\n",
    "    _ = usid.plot_utils.plot_map(axis, img, cmap=plt.cm.inferno,\n",
    "                               x_vec=x_axis_vec, y_vec=y_axis_vec, num_ticks=5)\n",
    "    axis.set_title(title)\n",
    "fig.tight_layout()"
   ]
  }
 ],
 "metadata": {
  "kernelspec": {
   "display_name": "py36",
   "language": "python",
   "name": "py36"
  },
  "language_info": {
   "codemirror_mode": {
    "name": "ipython",
    "version": 3
   },
   "file_extension": ".py",
   "mimetype": "text/x-python",
   "name": "python",
   "nbconvert_exporter": "python",
   "pygments_lexer": "ipython3",
   "version": "3.6.4"
  }
 },
 "nbformat": 4,
 "nbformat_minor": 1
}
