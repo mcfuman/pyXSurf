{
 "cells": [
  {
   "cell_type": "code",
   "execution_count": 1,
   "metadata": {},
   "outputs": [],
   "source": [
    "import numpy as np\n",
    "import matplotlib.pyplot as plt\n",
    "import os\n"
   ]
  },
  {
   "cell_type": "code",
   "execution_count": 2,
   "metadata": {},
   "outputs": [],
   "source": [
    "%qtconsole"
   ]
  },
  {
   "cell_type": "markdown",
   "metadata": {},
   "source": [
    "## Strings"
   ]
  },
  {
   "cell_type": "markdown",
   "metadata": {},
   "source": [
    "Why it was a bad idea to have strings as iterables"
   ]
  },
  {
   "cell_type": "code",
   "execution_count": null,
   "metadata": {},
   "outputs": [],
   "source": [
    "#cannot wrap. Searcb for finding if iterable but not string, no clean solution and even \n",
    "# broken in different versions of python\n",
    "\n",
    "def view_ls(s):\n",
    "    \"\"\"plot shortened version of long strings. works with lists.\"\"\"\n",
    "    if not isinstance(s,str):\n",
    "        return [view_ls(ss) for ss in s]\n",
    "        \n",
    "    l=7\n",
    "    return s[:l]+'...'+s[-l:] if len(s)>(l*2+4) else s\n",
    "\n",
    "def view_fn(s):\n",
    "    \"\"\"wrapper around view_ls, plot shortened version of file names by removing path.\"\"\"\n",
    "    if not isinstance(s,str):\n",
    "        return [view_fn(ss) for ss in s]\n",
    "    return view_ls(os.path.splitext(os.path.basename(s))[0])\n",
    "\n",
    "\n",
    "\n",
    "print(view_ls(v[0]))\n",
    "print(view_ls(v))\n",
    "\n",
    "print(view_fn(v[0]))\n",
    "print(view_fn(v))\n",
    "\n"
   ]
  },
  {
   "cell_type": "markdown",
   "metadata": {},
   "source": [
    "## How arrays are stored in memory and why it's important"
   ]
  },
  {
   "cell_type": "markdown",
   "metadata": {},
   "source": [
    "Surprisingly (or not), the last component is modified in the operation. \n",
    "Many cases in which this can happen. The effect is due to the fact that slices are views, not copies, also in assignment (? questo e' sbagliato e contraddetto dopo. in realta' ha forse a che fare con element-wise assignment).\n",
    "\n",
    "This is a consequence of mutable types being references. When they are modified inplace inside a routine, the change is reflected on the original data."
   ]
  },
  {
   "cell_type": "code",
   "execution_count": 3,
   "metadata": {},
   "outputs": [
    {
     "name": "stdout",
     "output_type": "stream",
     "text": [
      "[24.  3.  9.]\n",
      "[576.   9.   9.]\n",
      "[24.  3.  3.]\n",
      "5\n",
      "2.777777777777778\n",
      "5\n"
     ]
    }
   ],
   "source": [
    "import numpy as np\n",
    "\n",
    "def divide_last_component(a):\n",
    "    \"\"\"   divide third component by three.\"\"\"\n",
    "    a[-1]=a[-1]/3 \n",
    "    result = a**2\n",
    "    return result\n",
    "\n",
    "def divide_number(a):\n",
    "    \"\"\"   divide third component by three.\"\"\"\n",
    "    a=a/3 \n",
    "    result = a**2\n",
    "    return result\n",
    "\n",
    "a=np.array((24,3,9.))\n",
    "print (a)\n",
    "print (divide_last_component(a))\n",
    "print (a)\n",
    "\n",
    "b=5\n",
    "print (b)\n",
    "print (divide_number(b))\n",
    "print (b)"
   ]
  },
  {
   "cell_type": "markdown",
   "metadata": {},
   "source": [
    "A slice is a mutable type and works in assignment same way as element-wise assignment. This doesn't mean slice being a view rather than a copy."
   ]
  },
  {
   "cell_type": "code",
   "execution_count": 4,
   "metadata": {},
   "outputs": [
    {
     "name": "stdout",
     "output_type": "stream",
     "text": [
      "[24.  3.  9.]\n",
      "[1. 1. 1.]\n",
      "[1. 1. 1.]\n"
     ]
    }
   ],
   "source": [
    "def stest(a,b):\n",
    "    a[:]=b\n",
    "    return a\n",
    "\n",
    "a=np.array((24,3,9.))\n",
    "b=np.ones(3)\n",
    "\n",
    "print (a)\n",
    "print (stest(a,b))\n",
    "print (a)\n"
   ]
  },
  {
   "cell_type": "markdown",
   "metadata": {},
   "source": [
    "Same test would fail if b is not the right shape"
   ]
  },
  {
   "cell_type": "code",
   "execution_count": 5,
   "metadata": {},
   "outputs": [
    {
     "ename": "ValueError",
     "evalue": "could not broadcast input array from shape (2) into shape (3)",
     "output_type": "error",
     "traceback": [
      "\u001b[1;31m---------------------------------------------------------------------------\u001b[0m",
      "\u001b[1;31mValueError\u001b[0m                                Traceback (most recent call last)",
      "\u001b[1;32m<ipython-input-5-c0cb0982704c>\u001b[0m in \u001b[0;36m<module>\u001b[1;34m()\u001b[0m\n\u001b[1;32m----> 1\u001b[1;33m \u001b[0mprint\u001b[0m \u001b[1;33m(\u001b[0m\u001b[0mstest\u001b[0m\u001b[1;33m(\u001b[0m\u001b[0ma\u001b[0m\u001b[1;33m,\u001b[0m\u001b[0mb\u001b[0m\u001b[1;33m[\u001b[0m\u001b[1;33m:\u001b[0m\u001b[1;36m2\u001b[0m\u001b[1;33m]\u001b[0m\u001b[1;33m)\u001b[0m\u001b[1;33m)\u001b[0m\u001b[1;33m\u001b[0m\u001b[0m\n\u001b[0m",
      "\u001b[1;32m<ipython-input-4-e5a20428959d>\u001b[0m in \u001b[0;36mstest\u001b[1;34m(a, b)\u001b[0m\n\u001b[0;32m      1\u001b[0m \u001b[1;32mdef\u001b[0m \u001b[0mstest\u001b[0m\u001b[1;33m(\u001b[0m\u001b[0ma\u001b[0m\u001b[1;33m,\u001b[0m\u001b[0mb\u001b[0m\u001b[1;33m)\u001b[0m\u001b[1;33m:\u001b[0m\u001b[1;33m\u001b[0m\u001b[0m\n\u001b[1;32m----> 2\u001b[1;33m     \u001b[0ma\u001b[0m\u001b[1;33m[\u001b[0m\u001b[1;33m:\u001b[0m\u001b[1;33m]\u001b[0m\u001b[1;33m=\u001b[0m\u001b[0mb\u001b[0m\u001b[1;33m\u001b[0m\u001b[0m\n\u001b[0m\u001b[0;32m      3\u001b[0m     \u001b[1;32mreturn\u001b[0m \u001b[0ma\u001b[0m\u001b[1;33m\u001b[0m\u001b[0m\n\u001b[0;32m      4\u001b[0m \u001b[1;33m\u001b[0m\u001b[0m\n\u001b[0;32m      5\u001b[0m \u001b[0ma\u001b[0m\u001b[1;33m=\u001b[0m\u001b[0mnp\u001b[0m\u001b[1;33m.\u001b[0m\u001b[0marray\u001b[0m\u001b[1;33m(\u001b[0m\u001b[1;33m(\u001b[0m\u001b[1;36m24\u001b[0m\u001b[1;33m,\u001b[0m\u001b[1;36m3\u001b[0m\u001b[1;33m,\u001b[0m\u001b[1;36m9.\u001b[0m\u001b[1;33m)\u001b[0m\u001b[1;33m)\u001b[0m\u001b[1;33m\u001b[0m\u001b[0m\n",
      "\u001b[1;31mValueError\u001b[0m: could not broadcast input array from shape (2) into shape (3)"
     ]
    }
   ],
   "source": [
    "print (stest(a,b[:2]))"
   ]
  },
  {
   "cell_type": "markdown",
   "metadata": {},
   "source": [
    "It is indeed a copy, not a view"
   ]
  },
  {
   "cell_type": "code",
   "execution_count": 6,
   "metadata": {},
   "outputs": [
    {
     "name": "stdout",
     "output_type": "stream",
     "text": [
      "[0 1 2 3 4] [1. 1.]\n",
      "[0 1 1 3 4]\n",
      "[0 1 1 3 4] [ 1. -5.]\n"
     ]
    }
   ],
   "source": [
    "#slices in assignment make a copy ?\n",
    "a=np.arange(5)\n",
    "b=np.ones(2)\n",
    "print (a,b)\n",
    "a[1:3]=b  #b[:] doesn't make any difference\n",
    "print (a)\n",
    "\n",
    "b[1] = -5\n",
    "print (a,b)"
   ]
  },
  {
   "cell_type": "code",
   "execution_count": 7,
   "metadata": {},
   "outputs": [
    {
     "name": "stdout",
     "output_type": "stream",
     "text": [
      "a,b:  [ 0  1  2  3  4  5  6  7  8  9 10 11 12 13 14 15 16 17 18 19] [ 0 -1 -2 -3]\n",
      "a,c:  [ 0  1  2  3  4  5  6  7  8  9 10 11 12 13 14 15 16 17 18 19] [ 1  0 -1 -2 -3  6  7  8  9 10 11 12 13 14 15 16 17 18 19]\n"
     ]
    }
   ],
   "source": [
    "#this is same thing just in a routine, a doesn't change even here\n",
    "def repwcopy(a,b):\n",
    "    a=a.copy()\n",
    "    a[1:(1+len(b))]=b\n",
    "    return a\n",
    "\n",
    "a=np.arange(20)\n",
    "b=np.arange(4)*-1\n",
    "print (\"a,b: \",a,b)\n",
    "c=repwcopy(a[1:20],b)\n",
    "print (\"a,c: \",a,c)"
   ]
  },
  {
   "cell_type": "code",
   "execution_count": 8,
   "metadata": {},
   "outputs": [
    {
     "name": "stdout",
     "output_type": "stream",
     "text": [
      "a,b:  [ 0  1  2  3  4  5  6  7  8  9 10 11 12 13 14 15 16 17 18 19] [ 0 -1 -2 -3]\n",
      "1.21 µs ± 17.2 ns per loop (mean ± std. dev. of 7 runs, 1000000 loops each)\n",
      "[ 0  1  2  3  4  5  6  7  8  9 10 11 12 13 14 15 16 17 18 19]\n"
     ]
    }
   ],
   "source": [
    "print (\"a,b: \",a,b)\n",
    "%timeit repwcopy(a[1:100],b)\n",
    "print (a)"
   ]
  },
  {
   "cell_type": "code",
   "execution_count": 9,
   "metadata": {},
   "outputs": [
    {
     "data": {
      "text/plain": [
       "True"
      ]
     },
     "execution_count": 9,
     "metadata": {},
     "output_type": "execute_result"
    }
   ],
   "source": [
    "def repwstack(a,b):\n",
    "    a=np.hstack([a[:1],b,a[(1+len(b)):]])\n",
    "    return a\n",
    "\n",
    "(repwcopy(a,b)==repwstack(a,b)).all()\n"
   ]
  },
  {
   "cell_type": "code",
   "execution_count": 10,
   "metadata": {},
   "outputs": [
    {
     "name": "stdout",
     "output_type": "stream",
     "text": [
      "a,b:  [ 0  1  2  3  4  5  6  7  8  9 10 11 12 13 14 15 16 17 18 19] [ 0 -1 -2 -3]\n",
      "5.04 µs ± 76.7 ns per loop (mean ± std. dev. of 7 runs, 100000 loops each)\n",
      "[ 0  1  2  3  4  5  6  7  8  9 10 11 12 13 14 15 16 17 18 19]\n"
     ]
    }
   ],
   "source": [
    "print (\"a,b: \",a,b)\n",
    "%timeit repwstack(a[1:100],b)\n",
    "print (a)"
   ]
  },
  {
   "cell_type": "code",
   "execution_count": 12,
   "metadata": {},
   "outputs": [
    {
     "name": "stdout",
     "output_type": "stream",
     "text": [
      "a,b:  [0 1 2 3 4 5 6 7 8 9] [-100 -101 -102]\n",
      "[   0 -100 -101 -102    4    5    6    7    8    9]\n",
      "result:  [  50   50 -101 -102    4    5    6    7    8    9]\n",
      "a,b:  [  50   50 -101 -102    4    5    6    7    8    9] [-100  500 -102]\n"
     ]
    }
   ],
   "source": [
    "# This doesn't work as expected, fancy indexing works same way \n",
    "#    in assignment\n",
    "def changenoa(a,b):\n",
    "    a[[1+np.arange(len(b))]]=b\n",
    "    print (a)\n",
    "    a[[0,1]]=50\n",
    "    b[1]=500\n",
    "    return a\n",
    "\n",
    "a=np.arange(10)\n",
    "b=-np.arange(3)-100\n",
    "print (\"a,b: \",a,b)\n",
    "print (\"result: \",changenoa(a,b))\n",
    "print (\"a,b: \",a,b)"
   ]
  },
  {
   "cell_type": "code",
   "execution_count": 15,
   "metadata": {},
   "outputs": [
    {
     "name": "stdout",
     "output_type": "stream",
     "text": [
      "a,b:  [0 1 2 3 4 5 6 7 8 9] [-100 -101 -102]\n",
      "[   0 -100 -101 -102    4    5    6    7    8    9]\n",
      "result:  [   0 -100 -101 -102    4    5    6    7    8    9]\n",
      "a,b:  [   0 -100 -101 -102    4    5    6    7    8    9] [-100  500 -102]\n"
     ]
    }
   ],
   "source": [
    "# Note also\n",
    "def changeonlya(a,b):\n",
    "    \"\"\"replace elements of `a` after first element with `b` \n",
    "        using slice, then assign 500 to second element \n",
    "        of `b`. The change doesn't reflect in `a`.\"\"\"\n",
    "    a[1:(1+len(b))]=b   #this gives same result: a[1:(1+len(b))]=b[:]\n",
    "    print (a)\n",
    "    b[1]=500 \n",
    "    return a\n",
    "\n",
    "a=np.arange(10)\n",
    "b=-np.arange(3)-100\n",
    "print (\"a,b: \",a,b)\n",
    "print (\"result: \",changeonlya(a,b))\n",
    "print (\"a,b: \",a,b)"
   ]
  },
  {
   "cell_type": "markdown",
   "metadata": {},
   "source": [
    "## Operations on array and inplace modifications"
   ]
  },
  {
   "cell_type": "markdown",
   "metadata": {},
   "source": [
    "A method acting on internal data (e.g. level) can modify (o reassign to) self and return self or return a copy.\n",
    "    \n",
    "An example of this are methods that return a view of original data, but also reassigning data with self.data=..\n",
    "    will give a link to original data. \n",
    "    \n",
    "If inplace changes (e.g. element-wise assignment) are then performed on the property, the change is reflected in the original data."
   ]
  },
  {
   "cell_type": "code",
   "execution_count": 16,
   "metadata": {},
   "outputs": [
    {
     "name": "stdout",
     "output_type": "stream",
     "text": [
      "[[ 0  1  2  3]\n",
      " [ 4  5  6  7]\n",
      " [ 8 -5 10 11]]\n",
      "[[ 0  1  2  3]\n",
      " [ 4  5  6  7]\n",
      " [-5 -5 -5 -5]]\n",
      "[[ 0  1  2  3]\n",
      " [ 4  5  6  7]\n",
      " [ 8  9 10 11]]\n"
     ]
    }
   ],
   "source": [
    "def replace_2nd(ar,newval):\n",
    "    #ar=ar.copy()  #this avoids changes in ar\n",
    "    #ar=ar         #this and the following have no effect\n",
    "    #ar=ar[:]\n",
    "    # ar=ar[np.arange(ar.shape[0])] #this works in creating a copy also.\n",
    "    ar[2]=newval\n",
    "    \n",
    "def replace_2nd_slice(ar,newval):\n",
    "    ar=ar[1:-1]\n",
    "\n",
    "a=np.arange(12).reshape(3,4)\n",
    "replace_2nd(a[:,1],-5)\n",
    "print(a)\n",
    "\n",
    "a=np.arange(12).reshape(3,4)\n",
    "b=a[:,1]\n",
    "replace_2nd(a,-5)\n",
    "print(a)\n",
    "    \n",
    "a=np.arange(12).reshape(3,4)\n",
    "replace_2nd_slice(a,-5)\n",
    "print(a)"
   ]
  },
  {
   "cell_type": "code",
   "execution_count": 17,
   "metadata": {},
   "outputs": [
    {
     "ename": "NameError",
     "evalue": "name 'array' is not defined",
     "output_type": "error",
     "traceback": [
      "\u001b[1;31m---------------------------------------------------------------------------\u001b[0m",
      "\u001b[1;31mNameError\u001b[0m                                 Traceback (most recent call last)",
      "\u001b[1;32m<ipython-input-17-d5cb2a9333b8>\u001b[0m in \u001b[0;36m<module>\u001b[1;34m()\u001b[0m\n\u001b[0;32m      6\u001b[0m \u001b[1;33m\u001b[0m\u001b[0m\n\u001b[0;32m      7\u001b[0m \u001b[0msl\u001b[0m\u001b[1;33m(\u001b[0m\u001b[0mnp\u001b[0m\u001b[1;33m.\u001b[0m\u001b[0marange\u001b[0m\u001b[1;33m(\u001b[0m\u001b[1;36m5\u001b[0m\u001b[1;33m)\u001b[0m\u001b[1;33m)\u001b[0m\u001b[1;33m\u001b[0m\u001b[0m\n\u001b[1;32m----> 8\u001b[1;33m \u001b[0mOut\u001b[0m\u001b[1;33m[\u001b[0m\u001b[1;36m415\u001b[0m\u001b[1;33m]\u001b[0m\u001b[1;33m:\u001b[0m \u001b[0marray\u001b[0m\u001b[1;33m(\u001b[0m\u001b[1;33m[\u001b[0m\u001b[1;36m1\u001b[0m\u001b[1;33m,\u001b[0m \u001b[1;36m2\u001b[0m\u001b[1;33m,\u001b[0m \u001b[1;36m3\u001b[0m\u001b[1;33m]\u001b[0m\u001b[1;33m)\u001b[0m\u001b[1;33m\u001b[0m\u001b[0m\n\u001b[0m\u001b[0;32m      9\u001b[0m \u001b[1;33m\u001b[0m\u001b[0m\n\u001b[0;32m     10\u001b[0m \u001b[0ma\u001b[0m\u001b[1;33m=\u001b[0m\u001b[0mnp\u001b[0m\u001b[1;33m.\u001b[0m\u001b[0marange\u001b[0m\u001b[1;33m(\u001b[0m\u001b[1;36m5\u001b[0m\u001b[1;33m)\u001b[0m\u001b[1;33m\u001b[0m\u001b[0m\n",
      "\u001b[1;31mNameError\u001b[0m: name 'array' is not defined"
     ]
    }
   ],
   "source": [
    "\n",
    "def sl(ar):\n",
    "        res=ar[1:-1]\n",
    "        return res\n",
    "\n",
    "\n",
    "sl(np.arange(5))\n",
    "Out[415]: array([1, 2, 3])\n",
    "\n",
    "a=np.arange(5)\n",
    "\n",
    "sl(a)\n",
    "Out[417]: array([1, 2, 3])\n",
    "\n",
    "a\n",
    "Out[418]: array([0, 1, 2, 3, 4])"
   ]
  },
  {
   "cell_type": "markdown",
   "metadata": {},
   "source": [
    "This is a simple class that assign some data to a `data` property. An array is used as data. Note first of all that the id is the same as original data, meaning they are linked. \n",
    "instance `d` has of course a separate id."
   ]
  },
  {
   "cell_type": "code",
   "execution_count": 18,
   "metadata": {},
   "outputs": [
    {
     "name": "stdout",
     "output_type": "stream",
     "text": [
      "initial (data,d.data):\n",
      " [0 1 2 3 4] [0 1 2 3 4] \n",
      " ids: 1586594082208 1586594082208\n",
      "id(d) 1586594046696\n"
     ]
    }
   ],
   "source": [
    "class test2dd(object):\n",
    "    def __init__(self,data):\n",
    "        self.data=data\n",
    "        \n",
    "data=np.arange(5)\n",
    "d=test2dd(data)\n",
    "\n",
    "print('initial (data,d.data):\\n',data,d.data,\n",
    "      '\\n ids:',id(data),id(d.data))\n",
    "print ('id(d)',id(d))"
   ]
  },
  {
   "cell_type": "markdown",
   "metadata": {},
   "source": [
    "Note that different id doesn't necessary mean that data are not linked, an example is slice.\n",
    "\n",
    "Slice syntax is ..\n",
    "\n",
    "This is different from lists"
   ]
  },
  {
   "cell_type": "code",
   "execution_count": 19,
   "metadata": {},
   "outputs": [
    {
     "name": "stdout",
     "output_type": "stream",
     "text": [
      "[0, 1, 2, 3, 4, 5] 3 [3]\n",
      "[0, 1, 2, 3, 4, 5] 3 [-5]\n",
      "-\n",
      "[0 1 2 3 4 5] 3 [3]\n",
      "[ 0  1  2 -5  4  5] 3 [-5]\n"
     ]
    }
   ],
   "source": [
    "#this is different from lists\n",
    "\n",
    "a=list(range(6))\n",
    "b=a[3]\n",
    "c=a[3:4]\n",
    "print(a,b,c)\n",
    "c[0]=-5\n",
    "print(a,b,c)\n",
    "\n",
    "print(\"-\")\n",
    "\n",
    "a=np.arange(6)\n",
    "b=a[3]\n",
    "c=a[3:4]\n",
    "print(a,b,c)\n",
    "c[0]=-5\n",
    "print(a,b,c)"
   ]
  },
  {
   "cell_type": "markdown",
   "metadata": {},
   "source": [
    "\n",
    "\n",
    "This class will test how property data behave with respect to operation of slicing, assignment and in place modification:"
   ]
  },
  {
   "cell_type": "code",
   "execution_count": 20,
   "metadata": {},
   "outputs": [],
   "source": [
    "class test2dd(object):\n",
    "    def __init__(self,data):\n",
    "        self.data=data\n",
    "    \n",
    "    def rem(self):      #removes first element (slice)\n",
    "        self.data=self.data[1:]\n",
    "    \n",
    "    def rep(self,val):  #replace last el with one value\n",
    "        self.data[-1]=val\n",
    "        \n",
    "data=np.arange(5)\n",
    "d=test2dd(data)"
   ]
  },
  {
   "cell_type": "markdown",
   "metadata": {},
   "source": [
    "This is how a slice works: initially `data` and `d.data` are linked and have same id. Once the rem method assign a slice of `self.data` to self.data. This is a new object with a new id, however the old and the new array share data in the slice. \n",
    "When the method `rep` replace one element in place, the change is reflected in the original array."
   ]
  },
  {
   "cell_type": "code",
   "execution_count": 21,
   "metadata": {},
   "outputs": [
    {
     "name": "stdout",
     "output_type": "stream",
     "text": [
      "initial (data,d.data):\n",
      " [0 1 2 3 4] [0 1 2 3 4] \n",
      " ids: 1586593805856 1586593805856\n",
      "\n",
      "after removal (data,d.data):\n",
      " [0 1 2 3 4] [1 2 3 4] \n",
      " ids: 1586593805856 1586593805216\n",
      "\n",
      "after replacement (data,d.data):\n",
      " [ 0  1  2  3 -1] [ 1  2  3 -1] \n",
      " ids: 1586593805856 1586593805216\n"
     ]
    }
   ],
   "source": [
    "#surprise!?\n",
    "print('initial (data,d.data):\\n',data,d.data,\n",
    "      '\\n ids:',id(data),id(d.data))\n",
    "\n",
    "d.rem()\n",
    "\n",
    "print('\\nafter removal (data,d.data):\\n',data,d.data,\n",
    "      '\\n ids:',id(data),id(d.data))\n",
    "\n",
    "d.rep(-1)\n",
    "\n",
    "print('\\nafter replacement (data,d.data):\\n',data,d.data,\n",
    "      '\\n ids:',id(data),id(d.data))"
   ]
  },
  {
   "cell_type": "markdown",
   "metadata": {},
   "source": [
    "As a conclusion, when we design a class that has properties assigned from data that are reused somewhere else, we want to carefully consider which operations create copies and which ones link references."
   ]
  },
  {
   "cell_type": "markdown",
   "metadata": {},
   "source": [
    "In following example a class assign data property from property of another object."
   ]
  },
  {
   "cell_type": "code",
   "execution_count": 22,
   "metadata": {},
   "outputs": [
    {
     "name": "stdout",
     "output_type": "stream",
     "text": [
      "[0 1 2 3 4]\n"
     ]
    },
    {
     "data": {
      "text/plain": [
       "(None, array([0, 1, 2, 3, 4]))"
      ]
     },
     "execution_count": 22,
     "metadata": {},
     "output_type": "execute_result"
    }
   ],
   "source": [
    "class test2dd(object):\n",
    "    #add method that copies data from other instance.\n",
    "    #replace print with __call__ to save a few keystrokes\n",
    "    def __init__(self,data):\n",
    "        self.data=data\n",
    "    \n",
    "    def rem(self):\n",
    "        self.data=self.data[1:]\n",
    "    \n",
    "    def rep(self,val):\n",
    "        self.data[-1]=val\n",
    "        \n",
    "    def dcopy(self,other):\n",
    "        self.data=other.data\n",
    "        \n",
    "    def __call__(self):  #just to save a few keystrokes\n",
    "        print(self.data)\n",
    "        \n",
    "data=np.arange(5)\n",
    "d=test2dd(data)\n",
    "\n",
    "d(),data"
   ]
  },
  {
   "cell_type": "code",
   "execution_count": 23,
   "metadata": {},
   "outputs": [
    {
     "name": "stdout",
     "output_type": "stream",
     "text": [
      "[-1 -2 -3 -4 -5]\n"
     ]
    },
    {
     "data": {
      "text/plain": [
       "(None, array([-1, -2, -3, -4, -5]))"
      ]
     },
     "execution_count": 23,
     "metadata": {},
     "output_type": "execute_result"
    }
   ],
   "source": [
    "data2=np.arange(5)*-1-1\n",
    "d2=test2dd(data2)\n",
    "d2(),data2"
   ]
  },
  {
   "cell_type": "code",
   "execution_count": 24,
   "metadata": {},
   "outputs": [
    {
     "name": "stdout",
     "output_type": "stream",
     "text": [
      "before copy:\n",
      "1586594009456 1586594009456 1586594048936\n",
      "1586594130080 1586594130080 1586594048432\n",
      "data: [0 1 2 3 4], d.data[0 1 2 3 4]\n",
      "data2: [-1 -2 -3 -4 -5], d2.data[-1 -2 -3 -4 -5]\n",
      "#---\n",
      "after copy:\n",
      "1586594009456 1586594130080 1586594048936\n",
      "1586594130080 1586594130080 1586594048432\n",
      "data: [0 1 2 3 4], d.data[-1 -2 -3 -4 -5]\n",
      "data2: [-1 -2 -3 -4 -5], d2.data[-1 -2 -3 -4 -5]\n",
      "#---\n",
      "after rep:\n",
      "1586594009456 1586594130080 1586594048936\n",
      "1586594130080 1586594130080 1586594048432\n",
      "data: [0 1 2 3 4], d.data[-1 -2 -3 -4 11]\n",
      "data2: [-1 -2 -3 -4 11], d2.data[-1 -2 -3 -4 11]\n"
     ]
    }
   ],
   "source": [
    "print(\"before copy:\")\n",
    "print(id(data),id(d.data),id(d))\n",
    "print(id(data2),id(d2.data),id(d2))\n",
    "print(\"data: %s, d.data%s\"%(data,d.data))\n",
    "print(\"data2: %s, d2.data%s\"%(data2,d2.data))\n",
    "\n",
    "d.dcopy(d2)\n",
    "\n",
    "#this shows how data property of \n",
    "#  both object points to same variable\n",
    "print(\"#---\\nafter copy:\")\n",
    "print(id(data),id(d.data),id(d))\n",
    "print(id(data2),id(d2.data),id(d2))\n",
    "print(\"data: %s, d.data%s\"%(data,d.data))\n",
    "print(\"data2: %s, d2.data%s\"%(data2,d2.data))\n",
    "\n",
    "d.rep(11)\n",
    "\n",
    "#this replaces one element in place, change is\n",
    "# reflected on all linked variables\n",
    "print(\"#---\\nafter rep:\")\n",
    "print(id(data),id(d.data),id(d))\n",
    "print(id(data2),id(d2.data),id(d2))\n",
    "print(\"data: %s, d.data%s\"%(data,d.data))\n",
    "print(\"data2: %s, d2.data%s\"%(data2,d2.data))"
   ]
  },
  {
   "cell_type": "markdown",
   "metadata": {},
   "source": [
    "## Pandas"
   ]
  },
  {
   "cell_type": "code",
   "execution_count": 3,
   "metadata": {},
   "outputs": [],
   "source": [
    "import pandas as pd"
   ]
  },
  {
   "cell_type": "markdown",
   "metadata": {},
   "source": [
    "Pandas doc describes it as \"a powerful data analysis and manipulation library for Python\"\n",
    "\n",
    "offering \"fast, flexible, and expressive data structures designed to make working with \"relational\" or \"labeled\" data both\n",
    "easy and intuitive.\"\n",
    "\n",
    "\n"
   ]
  },
  {
   "cell_type": "code",
   "execution_count": 4,
   "metadata": {},
   "outputs": [
    {
     "name": "stdout",
     "output_type": "stream",
     "text": [
      "\n",
      "pandas - a powerful data analysis and manipulation library for Python\n",
      "=====================================================================**pandas** is a Python package providing fast, flexible, and expressive data\n",
      "structures designed to make working with \"relational\" or \"labeled\" data both\n",
      "easy and intuitive. It aims to be the fundamental high-level building block for\n",
      "doing practical, **real world** data analysis in Python. Additionally, it has\n",
      "the broader goal of becoming **the most powerful and flexible open source data\n",
      "analysis / manipulation tool available in any language**. It is already well on\n",
      "its way toward this goal.\n",
      "...\n",
      "...\n"
     ]
    }
   ],
   "source": [
    "#beginning of docstring\n",
    "\n",
    "print(\"\".join(pd.__doc__.split('\\n\\n')[:2])+'\\n...\\n...')"
   ]
  },
  {
   "cell_type": "markdown",
   "metadata": {},
   "source": [
    "It is something like a crossover between arrays and (improved) dictionaries. One of the main concept is the introduction of \"labels\" associated to axis and coordinates of an array, allowing data access and manipulation.."
   ]
  },
  {
   "cell_type": "markdown",
   "metadata": {},
   "source": [
    "The following code from https://pandas.pydata.org/pandas-docs/stable/cookbook.html#cookbook-pivot can be a good introductory example of the type of data manipulation that is possible with `pandas`. We want to focus now on the meaning of data. Pandas syntax and commands employed  will be detailed in the following. \n",
    "\n",
    "One of the most general forms of data structure is a list of records, also called “stacked” or “record” format(https://pandas.pydata.org/pandas-docs/stable/reshaping.html#reshaping-pivot).\n",
    "In this format, data are stored as a list of `records` each one containing the values for several `fields`. Each record constitute a `database entry` [VC, check this!].\n",
    "If records are listed on different lines, the result is a table on which each record is a line and fields are in columns.\n",
    "This is also used to store data in CSV files or databases.\n",
    "\n",
    "In the example a number of sales per each of a number of cities is reported. The fields are `'Province', 'City', 'Sales'`.\n"
   ]
  },
  {
   "cell_type": "code",
   "execution_count": 5,
   "metadata": {},
   "outputs": [
    {
     "data": {
      "text/html": [
       "<div>\n",
       "<style scoped>\n",
       "    .dataframe tbody tr th:only-of-type {\n",
       "        vertical-align: middle;\n",
       "    }\n",
       "\n",
       "    .dataframe tbody tr th {\n",
       "        vertical-align: top;\n",
       "    }\n",
       "\n",
       "    .dataframe thead th {\n",
       "        text-align: right;\n",
       "    }\n",
       "</style>\n",
       "<table border=\"1\" class=\"dataframe\">\n",
       "  <thead>\n",
       "    <tr style=\"text-align: right;\">\n",
       "      <th></th>\n",
       "      <th>City</th>\n",
       "      <th>Province</th>\n",
       "      <th>Sales</th>\n",
       "    </tr>\n",
       "  </thead>\n",
       "  <tbody>\n",
       "    <tr>\n",
       "      <th>0</th>\n",
       "      <td>Toronto</td>\n",
       "      <td>ON</td>\n",
       "      <td>13</td>\n",
       "    </tr>\n",
       "    <tr>\n",
       "      <th>1</th>\n",
       "      <td>Montreal</td>\n",
       "      <td>QC</td>\n",
       "      <td>6</td>\n",
       "    </tr>\n",
       "    <tr>\n",
       "      <th>2</th>\n",
       "      <td>Vancouver</td>\n",
       "      <td>BC</td>\n",
       "      <td>16</td>\n",
       "    </tr>\n",
       "    <tr>\n",
       "      <th>3</th>\n",
       "      <td>Calgary</td>\n",
       "      <td>AL</td>\n",
       "      <td>8</td>\n",
       "    </tr>\n",
       "    <tr>\n",
       "      <th>4</th>\n",
       "      <td>Edmonton</td>\n",
       "      <td>AL</td>\n",
       "      <td>4</td>\n",
       "    </tr>\n",
       "    <tr>\n",
       "      <th>5</th>\n",
       "      <td>Winnipeg</td>\n",
       "      <td>MN</td>\n",
       "      <td>3</td>\n",
       "    </tr>\n",
       "    <tr>\n",
       "      <th>6</th>\n",
       "      <td>Windsor</td>\n",
       "      <td>ON</td>\n",
       "      <td>1</td>\n",
       "    </tr>\n",
       "  </tbody>\n",
       "</table>\n",
       "</div>"
      ],
      "text/plain": [
       "        City Province  Sales\n",
       "0    Toronto       ON     13\n",
       "1   Montreal       QC      6\n",
       "2  Vancouver       BC     16\n",
       "3    Calgary       AL      8\n",
       "4   Edmonton       AL      4\n",
       "5   Winnipeg       MN      3\n",
       "6    Windsor       ON      1"
      ]
     },
     "execution_count": 5,
     "metadata": {},
     "output_type": "execute_result"
    }
   ],
   "source": [
    "df = pd.DataFrame(data={'Province' : \n",
    "                        ['ON','QC','BC','AL','AL','MN','ON'],\n",
    "                        'City' :['Toronto','Montreal','Vancouver',\n",
    "                                 'Calgary','Edmonton','Winnipeg',\n",
    "                                 'Windsor'],\n",
    "                        'Sales' : [13,6,16,8,4,3,1]})\n",
    "\n",
    "df"
   ]
  },
  {
   "cell_type": "markdown",
   "metadata": {},
   "source": [
    "It is important to observe that, while each field has a value, not all values are equal, some act as identifier for the record (in this case `'Province'` and `'City'`), others constitues the real data (`'Sales'`). Following `pandas` consuetudine, we will call from now on the first 'Indices' and the second 'values'.\n",
    "The first can be considered as independent variable (x), the second as dependant (y), in general the value that we want to plot/display/analyze. While in some cases (e.g. extract the state with more sales) the result is a index, this is always the result of some analysis made on \"values\" (data, e.g find the maximum of a sales vs City and Province, 2D data).\n",
    "\n",
    "Another way of seeing the difference between indices and values is to think at the first as (extended) keys of a dictionary. Advanced function as `hierarchical indexing` will be discussed later. For now, notice how a province can have more than one city, while the fact that each city has only one state, is just incidental from point of view of data, even if not surprising from logical point of view (it would be different in the US).\n",
    "\n",
    "In a general case, both city and province are needed to univoquously identify a record. The example employs a pd.DataFrame object with a single value and two indices. It could be as well a multi-index Series. "
   ]
  },
  {
   "cell_type": "code",
   "execution_count": 6,
   "metadata": {},
   "outputs": [
    {
     "data": {
      "text/plain": [
       "'\\\\begin{tabular}{lllr}\\n\\\\toprule\\n{} &       City & Province &  Sales \\\\\\\\\\n\\\\midrule\\n0 &    Toronto &       ON &     13 \\\\\\\\\\n1 &   Montreal &       QC &      6 \\\\\\\\\\n2 &  Vancouver &       BC &     16 \\\\\\\\\\n3 &    Calgary &       AL &      8 \\\\\\\\\\n4 &   Edmonton &       AL &      4 \\\\\\\\\\n5 &   Winnipeg &       MN &      3 \\\\\\\\\\n6 &    Windsor &       ON &      1 \\\\\\\\\\n\\\\bottomrule\\n\\\\end{tabular}\\n'"
      ]
     },
     "metadata": {},
     "output_type": "display_data"
    }
   ],
   "source": [
    "display(df.to_latex())"
   ]
  },
  {
   "cell_type": "markdown",
   "metadata": {},
   "source": [
    "The data above can be presented as well as a grid on all possible combinations of indices (we are excluding the case in which there are multiple records for same position in table), missing values are filled with np.nan as default). "
   ]
  },
  {
   "cell_type": "code",
   "execution_count": 7,
   "metadata": {},
   "outputs": [
    {
     "data": {
      "text/html": [
       "<div>\n",
       "<style scoped>\n",
       "    .dataframe tbody tr th:only-of-type {\n",
       "        vertical-align: middle;\n",
       "    }\n",
       "\n",
       "    .dataframe tbody tr th {\n",
       "        vertical-align: top;\n",
       "    }\n",
       "\n",
       "    .dataframe thead tr th {\n",
       "        text-align: left;\n",
       "    }\n",
       "\n",
       "    .dataframe thead tr:last-of-type th {\n",
       "        text-align: right;\n",
       "    }\n",
       "</style>\n",
       "<table border=\"1\" class=\"dataframe\">\n",
       "  <thead>\n",
       "    <tr>\n",
       "      <th></th>\n",
       "      <th colspan=\"7\" halign=\"left\">Sales</th>\n",
       "    </tr>\n",
       "    <tr>\n",
       "      <th>City</th>\n",
       "      <th>Calgary</th>\n",
       "      <th>Edmonton</th>\n",
       "      <th>Montreal</th>\n",
       "      <th>Toronto</th>\n",
       "      <th>Vancouver</th>\n",
       "      <th>Windsor</th>\n",
       "      <th>Winnipeg</th>\n",
       "    </tr>\n",
       "    <tr>\n",
       "      <th>Province</th>\n",
       "      <th></th>\n",
       "      <th></th>\n",
       "      <th></th>\n",
       "      <th></th>\n",
       "      <th></th>\n",
       "      <th></th>\n",
       "      <th></th>\n",
       "    </tr>\n",
       "  </thead>\n",
       "  <tbody>\n",
       "    <tr>\n",
       "      <th>AL</th>\n",
       "      <td>8.0</td>\n",
       "      <td>4.0</td>\n",
       "      <td>NaN</td>\n",
       "      <td>NaN</td>\n",
       "      <td>NaN</td>\n",
       "      <td>NaN</td>\n",
       "      <td>NaN</td>\n",
       "    </tr>\n",
       "    <tr>\n",
       "      <th>BC</th>\n",
       "      <td>NaN</td>\n",
       "      <td>NaN</td>\n",
       "      <td>NaN</td>\n",
       "      <td>NaN</td>\n",
       "      <td>16.0</td>\n",
       "      <td>NaN</td>\n",
       "      <td>NaN</td>\n",
       "    </tr>\n",
       "    <tr>\n",
       "      <th>MN</th>\n",
       "      <td>NaN</td>\n",
       "      <td>NaN</td>\n",
       "      <td>NaN</td>\n",
       "      <td>NaN</td>\n",
       "      <td>NaN</td>\n",
       "      <td>NaN</td>\n",
       "      <td>3.0</td>\n",
       "    </tr>\n",
       "    <tr>\n",
       "      <th>ON</th>\n",
       "      <td>NaN</td>\n",
       "      <td>NaN</td>\n",
       "      <td>NaN</td>\n",
       "      <td>13.0</td>\n",
       "      <td>NaN</td>\n",
       "      <td>1.0</td>\n",
       "      <td>NaN</td>\n",
       "    </tr>\n",
       "    <tr>\n",
       "      <th>QC</th>\n",
       "      <td>NaN</td>\n",
       "      <td>NaN</td>\n",
       "      <td>6.0</td>\n",
       "      <td>NaN</td>\n",
       "      <td>NaN</td>\n",
       "      <td>NaN</td>\n",
       "      <td>NaN</td>\n",
       "    </tr>\n",
       "  </tbody>\n",
       "</table>\n",
       "</div>"
      ],
      "text/plain": [
       "           Sales                                                     \n",
       "City     Calgary Edmonton Montreal Toronto Vancouver Windsor Winnipeg\n",
       "Province                                                             \n",
       "AL           8.0      4.0      NaN     NaN       NaN     NaN      NaN\n",
       "BC           NaN      NaN      NaN     NaN      16.0     NaN      NaN\n",
       "MN           NaN      NaN      NaN     NaN       NaN     NaN      3.0\n",
       "ON           NaN      NaN      NaN    13.0       NaN     1.0      NaN\n",
       "QC           NaN      NaN      6.0     NaN       NaN     NaN      NaN"
      ]
     },
     "execution_count": 7,
     "metadata": {},
     "output_type": "execute_result"
    }
   ],
   "source": [
    "table = pd.pivot_table(df,values=['Sales'],\n",
    "        index=['Province'],columns=['City'])\n",
    "\n",
    "table\n"
   ]
  },
  {
   "cell_type": "markdown",
   "metadata": {},
   "source": [
    "Note that, while the first representation is (apart from column and row orders) univoque, there is some arbitrariety in the second: we could as well decide to put province in row columns and cities in rows.\n",
    "\n",
    "While all representations contain an equivalent amount of information, the records format is the only one the doesn't contain any arbitrarity, while every other becomes a (often more useful) representation of the data and the underlying structure. "
   ]
  },
  {
   "cell_type": "markdown",
   "metadata": {},
   "source": [
    "To this purpose, the ability of sorting and handling axis is essential for both data visualization and processing.\n",
    "\n",
    "Pandas allows easy handling of (labeled) axis to select and process data and to extract information. The same operation could be done (and are indeed done under the scene) by operations on arrays. An example is calculating sum by columns and rows. \n",
    "\n"
   ]
  },
  {
   "cell_type": "code",
   "execution_count": 8,
   "metadata": {},
   "outputs": [
    {
     "data": {
      "text/html": [
       "<div>\n",
       "<style scoped>\n",
       "    .dataframe tbody tr th:only-of-type {\n",
       "        vertical-align: middle;\n",
       "    }\n",
       "\n",
       "    .dataframe tbody tr th {\n",
       "        vertical-align: top;\n",
       "    }\n",
       "\n",
       "    .dataframe thead tr th {\n",
       "        text-align: left;\n",
       "    }\n",
       "\n",
       "    .dataframe thead tr:last-of-type th {\n",
       "        text-align: right;\n",
       "    }\n",
       "</style>\n",
       "<table border=\"1\" class=\"dataframe\">\n",
       "  <thead>\n",
       "    <tr>\n",
       "      <th></th>\n",
       "      <th colspan=\"8\" halign=\"left\">Sales</th>\n",
       "    </tr>\n",
       "    <tr>\n",
       "      <th>City</th>\n",
       "      <th>Calgary</th>\n",
       "      <th>Edmonton</th>\n",
       "      <th>Montreal</th>\n",
       "      <th>Toronto</th>\n",
       "      <th>Vancouver</th>\n",
       "      <th>Windsor</th>\n",
       "      <th>Winnipeg</th>\n",
       "      <th>All</th>\n",
       "    </tr>\n",
       "    <tr>\n",
       "      <th>Province</th>\n",
       "      <th></th>\n",
       "      <th></th>\n",
       "      <th></th>\n",
       "      <th></th>\n",
       "      <th></th>\n",
       "      <th></th>\n",
       "      <th></th>\n",
       "      <th></th>\n",
       "    </tr>\n",
       "  </thead>\n",
       "  <tbody>\n",
       "    <tr>\n",
       "      <th>AL</th>\n",
       "      <td>8.0</td>\n",
       "      <td>4.0</td>\n",
       "      <td>NaN</td>\n",
       "      <td>NaN</td>\n",
       "      <td>NaN</td>\n",
       "      <td>NaN</td>\n",
       "      <td>NaN</td>\n",
       "      <td>12</td>\n",
       "    </tr>\n",
       "    <tr>\n",
       "      <th>BC</th>\n",
       "      <td>NaN</td>\n",
       "      <td>NaN</td>\n",
       "      <td>NaN</td>\n",
       "      <td>NaN</td>\n",
       "      <td>16.0</td>\n",
       "      <td>NaN</td>\n",
       "      <td>NaN</td>\n",
       "      <td>16</td>\n",
       "    </tr>\n",
       "    <tr>\n",
       "      <th>MN</th>\n",
       "      <td>NaN</td>\n",
       "      <td>NaN</td>\n",
       "      <td>NaN</td>\n",
       "      <td>NaN</td>\n",
       "      <td>NaN</td>\n",
       "      <td>NaN</td>\n",
       "      <td>3.0</td>\n",
       "      <td>3</td>\n",
       "    </tr>\n",
       "    <tr>\n",
       "      <th>ON</th>\n",
       "      <td>NaN</td>\n",
       "      <td>NaN</td>\n",
       "      <td>NaN</td>\n",
       "      <td>13.0</td>\n",
       "      <td>NaN</td>\n",
       "      <td>1.0</td>\n",
       "      <td>NaN</td>\n",
       "      <td>14</td>\n",
       "    </tr>\n",
       "    <tr>\n",
       "      <th>QC</th>\n",
       "      <td>NaN</td>\n",
       "      <td>NaN</td>\n",
       "      <td>6.0</td>\n",
       "      <td>NaN</td>\n",
       "      <td>NaN</td>\n",
       "      <td>NaN</td>\n",
       "      <td>NaN</td>\n",
       "      <td>6</td>\n",
       "    </tr>\n",
       "    <tr>\n",
       "      <th>All</th>\n",
       "      <td>8.0</td>\n",
       "      <td>4.0</td>\n",
       "      <td>6.0</td>\n",
       "      <td>13.0</td>\n",
       "      <td>16.0</td>\n",
       "      <td>1.0</td>\n",
       "      <td>3.0</td>\n",
       "      <td>51</td>\n",
       "    </tr>\n",
       "  </tbody>\n",
       "</table>\n",
       "</div>"
      ],
      "text/plain": [
       "           Sales                                                         \n",
       "City     Calgary Edmonton Montreal Toronto Vancouver Windsor Winnipeg All\n",
       "Province                                                                 \n",
       "AL           8.0      4.0      NaN     NaN       NaN     NaN      NaN  12\n",
       "BC           NaN      NaN      NaN     NaN      16.0     NaN      NaN  16\n",
       "MN           NaN      NaN      NaN     NaN       NaN     NaN      3.0   3\n",
       "ON           NaN      NaN      NaN    13.0       NaN     1.0      NaN  14\n",
       "QC           NaN      NaN      6.0     NaN       NaN     NaN      NaN   6\n",
       "All          8.0      4.0      6.0    13.0      16.0     1.0      3.0  51"
      ]
     },
     "execution_count": 8,
     "metadata": {},
     "output_type": "execute_result"
    }
   ],
   "source": [
    "table = pd.pivot_table(df,values=['Sales'],\n",
    "        index=['Province'],columns=['City'],aggfunc=np.sum,margins=True)\n",
    "\n",
    "table\n"
   ]
  },
  {
   "cell_type": "markdown",
   "metadata": {},
   "source": [
    "The arbitrarity of tabular representation, becomes even more evident adding additional dimensions. In this case, the simple tabular form of previous example can be extended to a three-dimensional grid and this can be extended to any dimension. Each index has one axis. However, up today, multi-dimensional structures are impractical for visualization and printing and the multiple indices are collapsed to a 2D structure. This is done placing more than index for an axis, introducing another arbitrarity, the `level`.\n",
    "\n",
    "Each index can be placed on the horizontal or vertical axis, with no more limitation of one index per axis. In this case it is necessary to specify index priority.\n",
    "\n",
    "The following example is a rewriting of the previous table with both indices in vertical orientation."
   ]
  },
  {
   "cell_type": "code",
   "execution_count": 9,
   "metadata": {},
   "outputs": [
    {
     "data": {
      "text/html": [
       "<div>\n",
       "<style scoped>\n",
       "    .dataframe tbody tr th:only-of-type {\n",
       "        vertical-align: middle;\n",
       "    }\n",
       "\n",
       "    .dataframe tbody tr th {\n",
       "        vertical-align: top;\n",
       "    }\n",
       "\n",
       "    .dataframe thead th {\n",
       "        text-align: right;\n",
       "    }\n",
       "</style>\n",
       "<table border=\"1\" class=\"dataframe\">\n",
       "  <thead>\n",
       "    <tr style=\"text-align: right;\">\n",
       "      <th></th>\n",
       "      <th></th>\n",
       "      <th>Sales</th>\n",
       "    </tr>\n",
       "    <tr>\n",
       "      <th>Province</th>\n",
       "      <th>City</th>\n",
       "      <th></th>\n",
       "    </tr>\n",
       "  </thead>\n",
       "  <tbody>\n",
       "    <tr>\n",
       "      <th rowspan=\"3\" valign=\"top\">AL</th>\n",
       "      <th>All</th>\n",
       "      <td>12.0</td>\n",
       "    </tr>\n",
       "    <tr>\n",
       "      <th>Calgary</th>\n",
       "      <td>8.0</td>\n",
       "    </tr>\n",
       "    <tr>\n",
       "      <th>Edmonton</th>\n",
       "      <td>4.0</td>\n",
       "    </tr>\n",
       "    <tr>\n",
       "      <th rowspan=\"2\" valign=\"top\">BC</th>\n",
       "      <th>All</th>\n",
       "      <td>16.0</td>\n",
       "    </tr>\n",
       "    <tr>\n",
       "      <th>Vancouver</th>\n",
       "      <td>16.0</td>\n",
       "    </tr>\n",
       "    <tr>\n",
       "      <th rowspan=\"2\" valign=\"top\">MN</th>\n",
       "      <th>All</th>\n",
       "      <td>3.0</td>\n",
       "    </tr>\n",
       "    <tr>\n",
       "      <th>Winnipeg</th>\n",
       "      <td>3.0</td>\n",
       "    </tr>\n",
       "    <tr>\n",
       "      <th rowspan=\"3\" valign=\"top\">ON</th>\n",
       "      <th>All</th>\n",
       "      <td>14.0</td>\n",
       "    </tr>\n",
       "    <tr>\n",
       "      <th>Toronto</th>\n",
       "      <td>13.0</td>\n",
       "    </tr>\n",
       "    <tr>\n",
       "      <th>Windsor</th>\n",
       "      <td>1.0</td>\n",
       "    </tr>\n",
       "    <tr>\n",
       "      <th rowspan=\"2\" valign=\"top\">QC</th>\n",
       "      <th>All</th>\n",
       "      <td>6.0</td>\n",
       "    </tr>\n",
       "    <tr>\n",
       "      <th>Montreal</th>\n",
       "      <td>6.0</td>\n",
       "    </tr>\n",
       "    <tr>\n",
       "      <th rowspan=\"8\" valign=\"top\">All</th>\n",
       "      <th>All</th>\n",
       "      <td>51.0</td>\n",
       "    </tr>\n",
       "    <tr>\n",
       "      <th>Calgary</th>\n",
       "      <td>8.0</td>\n",
       "    </tr>\n",
       "    <tr>\n",
       "      <th>Edmonton</th>\n",
       "      <td>4.0</td>\n",
       "    </tr>\n",
       "    <tr>\n",
       "      <th>Montreal</th>\n",
       "      <td>6.0</td>\n",
       "    </tr>\n",
       "    <tr>\n",
       "      <th>Toronto</th>\n",
       "      <td>13.0</td>\n",
       "    </tr>\n",
       "    <tr>\n",
       "      <th>Vancouver</th>\n",
       "      <td>16.0</td>\n",
       "    </tr>\n",
       "    <tr>\n",
       "      <th>Windsor</th>\n",
       "      <td>1.0</td>\n",
       "    </tr>\n",
       "    <tr>\n",
       "      <th>Winnipeg</th>\n",
       "      <td>3.0</td>\n",
       "    </tr>\n",
       "  </tbody>\n",
       "</table>\n",
       "</div>"
      ],
      "text/plain": [
       "                    Sales\n",
       "Province City            \n",
       "AL       All         12.0\n",
       "         Calgary      8.0\n",
       "         Edmonton     4.0\n",
       "BC       All         16.0\n",
       "         Vancouver   16.0\n",
       "MN       All          3.0\n",
       "         Winnipeg     3.0\n",
       "ON       All         14.0\n",
       "         Toronto     13.0\n",
       "         Windsor      1.0\n",
       "QC       All          6.0\n",
       "         Montreal     6.0\n",
       "All      All         51.0\n",
       "         Calgary      8.0\n",
       "         Edmonton     4.0\n",
       "         Montreal     6.0\n",
       "         Toronto     13.0\n",
       "         Vancouver   16.0\n",
       "         Windsor      1.0\n",
       "         Winnipeg     3.0"
      ]
     },
     "execution_count": 9,
     "metadata": {},
     "output_type": "execute_result"
    }
   ],
   "source": [
    "table.stack('City')"
   ]
  },
  {
   "cell_type": "markdown",
   "metadata": {},
   "source": [
    "questo e' un esempio di come aggiungere una colonna come identificativo incasina tutto quando e' interpretata come valore. Per esempio qui aggiungiamo un altro campo `data` e visualizziamo come record \n",
    "\n",
    "    diffdf['date'] = dates\n",
    "    diffdf.sort_values('date')\n",
    "    \n",
    "    b=diffdf.reset_index().melt(id_vars=['index']).set_index(['index',\n",
    "    'terms removed','files#'])"
   ]
  },
  {
   "cell_type": "markdown",
   "metadata": {},
   "source": [
    "### Data Structures in pandas"
   ]
  },
  {
   "cell_type": "markdown",
   "metadata": {},
   "source": [
    "Now, we jave seen some examples of data structures and clarified the composing elements, we are going to see how these are implemented in pandas."
   ]
  },
  {
   "cell_type": "markdown",
   "metadata": {},
   "source": [
    "The principal data structures are `Series` and `DataFrame`"
   ]
  },
  {
   "cell_type": "markdown",
   "metadata": {},
   "source": [
    "Let's go back to the cities example and make some observation on how data are presented."
   ]
  },
  {
   "cell_type": "code",
   "execution_count": 43,
   "metadata": {},
   "outputs": [
    {
     "data": {
      "text/html": [
       "<div>\n",
       "<style scoped>\n",
       "    .dataframe tbody tr th:only-of-type {\n",
       "        vertical-align: middle;\n",
       "    }\n",
       "\n",
       "    .dataframe tbody tr th {\n",
       "        vertical-align: top;\n",
       "    }\n",
       "\n",
       "    .dataframe thead th {\n",
       "        text-align: right;\n",
       "    }\n",
       "</style>\n",
       "<table border=\"1\" class=\"dataframe\">\n",
       "  <thead>\n",
       "    <tr style=\"text-align: right;\">\n",
       "      <th></th>\n",
       "      <th>City</th>\n",
       "      <th>Province</th>\n",
       "      <th>Sales</th>\n",
       "    </tr>\n",
       "  </thead>\n",
       "  <tbody>\n",
       "    <tr>\n",
       "      <th>0</th>\n",
       "      <td>Toronto</td>\n",
       "      <td>ON</td>\n",
       "      <td>13</td>\n",
       "    </tr>\n",
       "    <tr>\n",
       "      <th>1</th>\n",
       "      <td>Montreal</td>\n",
       "      <td>QC</td>\n",
       "      <td>6</td>\n",
       "    </tr>\n",
       "    <tr>\n",
       "      <th>2</th>\n",
       "      <td>Vancouver</td>\n",
       "      <td>BC</td>\n",
       "      <td>16</td>\n",
       "    </tr>\n",
       "    <tr>\n",
       "      <th>3</th>\n",
       "      <td>Calgary</td>\n",
       "      <td>AL</td>\n",
       "      <td>8</td>\n",
       "    </tr>\n",
       "    <tr>\n",
       "      <th>4</th>\n",
       "      <td>Edmonton</td>\n",
       "      <td>AL</td>\n",
       "      <td>4</td>\n",
       "    </tr>\n",
       "    <tr>\n",
       "      <th>5</th>\n",
       "      <td>Winnipeg</td>\n",
       "      <td>MN</td>\n",
       "      <td>3</td>\n",
       "    </tr>\n",
       "    <tr>\n",
       "      <th>6</th>\n",
       "      <td>Windsor</td>\n",
       "      <td>ON</td>\n",
       "      <td>1</td>\n",
       "    </tr>\n",
       "  </tbody>\n",
       "</table>\n",
       "</div>"
      ],
      "text/plain": [
       "        City Province  Sales\n",
       "0    Toronto       ON     13\n",
       "1   Montreal       QC      6\n",
       "2  Vancouver       BC     16\n",
       "3    Calgary       AL      8\n",
       "4   Edmonton       AL      4\n",
       "5   Winnipeg       MN      3\n",
       "6    Windsor       ON      1"
      ]
     },
     "execution_count": 43,
     "metadata": {},
     "output_type": "execute_result"
    }
   ],
   "source": [
    "df = pd.DataFrame(data={'Province' : \n",
    "                        ['ON','QC','BC','AL','AL','MN','ON'],\n",
    "                        'City' :['Toronto','Montreal','Vancouver',\n",
    "                                 'Calgary','Edmonton','Winnipeg',\n",
    "                                 'Windsor'],\n",
    "                        'Sales' : [13,6,16,8,4,3,1]})\n",
    "\n",
    "df"
   ]
  },
  {
   "cell_type": "markdown",
   "metadata": {},
   "source": [
    "Columns can have a natural name (fields have a name), for record in general an index is necessary, we can assume for now that first column contains and unique sequential ID number. "
   ]
  },
  {
   "cell_type": "markdown",
   "metadata": {},
   "source": [
    "The example here is based on a single non-index value. What happens if a second value is introduced? \n",
    "\n",
    "We introduce here pandas data structures Series and DataFrame and show how they are equivalent when multi index is considered. It is possible to revert back to record format and single index (DataFrame) from multiindex Series by using `.reset_index()` method of DataFrame.\n"
   ]
  },
  {
   "cell_type": "markdown",
   "metadata": {},
   "source": [
    "Dataseries and dictionaries. \n",
    "Dataseries can be interlaced, meaning a dataframe can always be represented as a multi index data series.\n",
    "\n",
    "DataFrame\n",
    "A table is a representation of the dataset, in which indices are sorted and grouped. It is a visualization (2D) with arbitrary ordering of indices (rows or columns, levels,..).\n",
    "This visulization is often more useful than a mere list of records, and equally often is the final product of the data processing or of the entire analysis. Is it then of extreme importance understand and handle these data structures."
   ]
  },
  {
   "cell_type": "markdown",
   "metadata": {},
   "source": [
    "Unfortunately, there is an almost infinite numbers of methods to handle indices and representations, and as many documentation pages: pivot and pivot_table, melt, groupby, stack and unstack, in a complexive confuse picture:"
   ]
  },
  {
   "cell_type": "code",
   "execution_count": 83,
   "metadata": {
    "scrolled": false
   },
   "outputs": [
    {
     "name": "stdout",
     "output_type": "stream",
     "text": [
      "melt :\n",
      "m\bme\bel\blt\bt(frame, id_vars=None, value_vars=None, var_name=None, value_name='value', col_level=None)\n",
      ":\n",
      " \n",
      "\"Unpivots\" a DataFrame from wide format to long format, optionally\n",
      "leaving identifier variables set.\n",
      "...\n",
      "\n",
      "=====\n",
      "pivot_simple :\n",
      "p\bpi\biv\bvo\bot\bt_\b_s\bsi\bim\bmp\bpl\ble\be(index, columns, values)\n",
      ":\n",
      " \n",
      "    Produce 'pivot' table based on 3 columns of this DataFrame.\n",
      "    Uses unique values from index / columns and fills with values.\n",
      "...\n",
      "\n",
      "=====\n",
      "pivot_table :\n",
      "p\bpi\biv\bvo\bot\bt_\b_t\bta\bab\bbl\ble\be(data, values=None, index=None, columns=None, aggfunc='mean', fill_value=None, margins=False, dropna=True, margins_name='All')\n",
      ":\n",
      " \n",
      "Create a spreadsheet-style pivot table as a DataFrame. The levels in\n",
      "the pivot table will be stored in MultiIndex objects (hierarchical\n",
      "indexes) on the index and columns of the result DataFrame\n",
      "...\n",
      "\n",
      "=====\n",
      "stack :\n",
      "s\bst\bta\bac\bck\bk(self, level=-1, dropna=True)\n",
      ":\n",
      " \n",
      "        Pivot a level of the (possibly hierarchical) column labels, returning a\n",
      "        DataFrame (or Series in the case of an object with a single level of\n",
      "        column labels) having a hierarchical index with a new inner-most level\n",
      "        of row labels.\n",
      "        The level involved will automatically get sorted.\n",
      "...\n",
      "\n",
      "=====\n",
      "unstack :\n",
      "u\bun\bns\bst\bta\bac\bck\bk(self, level=-1, fill_value=None)\n",
      ":\n",
      " \n",
      "        Pivot a level of the (necessarily hierarchical) index labels, returning\n",
      "        a DataFrame having a new level of column labels whose inner-most level\n",
      "        consists of the pivoted index labels. If the index is not a MultiIndex,\n",
      "        the output will be a Series (the analogue of stack when the columns are\n",
      "        not a MultiIndex).\n",
      "        The level involved will automatically get sorted.\n",
      "...\n",
      "\n",
      "=====\n"
     ]
    }
   ],
   "source": [
    "#groupby doesn't seem to have a docstring ??\n",
    "import pydoc\n",
    "\n",
    "for f in [pd.melt,pd.pivot,pd.pivot_table,pd.DataFrame.stack,pd.DataFrame.unstack]:\n",
    "    print(f.__name__,':')\n",
    "    print (pydoc.render_doc(f).splitlines()[2])\n",
    "    print (':\\n',\"\".join(f.__doc__.split('\\n\\n')[:1])+'\\n...\\n\\n=====')\n",
    "    #print(f.__doc__)"
   ]
  },
  {
   "cell_type": "markdown",
   "metadata": {},
   "source": [
    "A very illustrative example (with code) and clear explanation of how multiindex and pivot work, with examples of all methods:\n",
    "http://nikgrozev.com/2015/07/01/reshaping-in-pandas-pivot-pivot-table-stack-and-unstack-explained-with-pictures/\n"
   ]
  },
  {
   "cell_type": "markdown",
   "metadata": {},
   "source": [
    "A good comparison of all methods:\n",
    "https://pandas.pydata.org/pandas-docs/stable/reshaping.html#reshaping-pivot\n",
    "An example of pandas plotting capabilities using groupby\n",
    "http://jonathansoma.com/lede/algorithms-2017/classes/fuzziness-matplotlib/understand-df-plot-in-pandas/\n",
    "\n",
    "\n",
    "Documentation for:\n",
    "Multiindex (Hierarchical index): https://pandas.pydata.org/pandas-docs/stable/advanced.html#advanced-hierarchical \n",
    "Groupby (split-apply-combine): https://pandas.pydata.org/pandas-docs/stable/groupby.html#groupby\n",
    "Some details about melt and advanced use  to handle indices (as in notebook WFS08_all) are discussed here:\n",
    "https://github.com/pandas-dev/pandas/issues/17440 \n"
   ]
  },
  {
   "cell_type": "markdown",
   "metadata": {},
   "source": [
    "http://www.swegler.com/becky/blog/2014/08/06/useful-pandas-snippets/\n",
    "\n",
    "text data in pandas http://pandas.pydata.org/pandas-docs/stable/text.html#text-string-methods "
   ]
  },
  {
   "cell_type": "code",
   "execution_count": 64,
   "metadata": {},
   "outputs": [
    {
     "data": {
      "text/html": [
       "<div>\n",
       "<style scoped>\n",
       "    .dataframe tbody tr th:only-of-type {\n",
       "        vertical-align: middle;\n",
       "    }\n",
       "\n",
       "    .dataframe tbody tr th {\n",
       "        vertical-align: top;\n",
       "    }\n",
       "\n",
       "    .dataframe thead th {\n",
       "        text-align: right;\n",
       "    }\n",
       "</style>\n",
       "<table border=\"1\" class=\"dataframe\">\n",
       "  <thead>\n",
       "    <tr style=\"text-align: right;\">\n",
       "      <th></th>\n",
       "      <th>one</th>\n",
       "      <th>two</th>\n",
       "    </tr>\n",
       "  </thead>\n",
       "  <tbody>\n",
       "    <tr>\n",
       "      <th>a</th>\n",
       "      <td>1.0</td>\n",
       "      <td>1.0</td>\n",
       "    </tr>\n",
       "    <tr>\n",
       "      <th>b</th>\n",
       "      <td>2.0</td>\n",
       "      <td>2.0</td>\n",
       "    </tr>\n",
       "    <tr>\n",
       "      <th>c</th>\n",
       "      <td>3.0</td>\n",
       "      <td>3.0</td>\n",
       "    </tr>\n",
       "    <tr>\n",
       "      <th>d</th>\n",
       "      <td>NaN</td>\n",
       "      <td>4.0</td>\n",
       "    </tr>\n",
       "  </tbody>\n",
       "</table>\n",
       "</div>"
      ],
      "text/plain": [
       "   one  two\n",
       "a  1.0  1.0\n",
       "b  2.0  2.0\n",
       "c  3.0  3.0\n",
       "d  NaN  4.0"
      ]
     },
     "execution_count": 64,
     "metadata": {},
     "output_type": "execute_result"
    }
   ],
   "source": [
    "d = {'one' : pd.Series([1., 2., 3.], index=['a', 'b', 'c']),\n",
    "    'two' : pd.Series([1., 2., 3., 4.], index=['a', 'b', 'c', 'd'])}\n",
    "\n",
    "\n",
    "df = pd.DataFrame(d)\n",
    "\n",
    "df"
   ]
  },
  {
   "cell_type": "code",
   "execution_count": 65,
   "metadata": {},
   "outputs": [
    {
     "data": {
      "text/html": [
       "<div>\n",
       "<style scoped>\n",
       "    .dataframe tbody tr th:only-of-type {\n",
       "        vertical-align: middle;\n",
       "    }\n",
       "\n",
       "    .dataframe tbody tr th {\n",
       "        vertical-align: top;\n",
       "    }\n",
       "\n",
       "    .dataframe thead th {\n",
       "        text-align: right;\n",
       "    }\n",
       "</style>\n",
       "<table border=\"1\" class=\"dataframe\">\n",
       "  <thead>\n",
       "    <tr style=\"text-align: right;\">\n",
       "      <th></th>\n",
       "      <th>one</th>\n",
       "      <th>two</th>\n",
       "      <th>three</th>\n",
       "    </tr>\n",
       "  </thead>\n",
       "  <tbody>\n",
       "    <tr>\n",
       "      <th>a</th>\n",
       "      <td>1.0</td>\n",
       "      <td>1.0</td>\n",
       "      <td>1.0</td>\n",
       "    </tr>\n",
       "    <tr>\n",
       "      <th>b</th>\n",
       "      <td>2.0</td>\n",
       "      <td>2.0</td>\n",
       "      <td>4.0</td>\n",
       "    </tr>\n",
       "    <tr>\n",
       "      <th>c</th>\n",
       "      <td>3.0</td>\n",
       "      <td>3.0</td>\n",
       "      <td>9.0</td>\n",
       "    </tr>\n",
       "    <tr>\n",
       "      <th>d</th>\n",
       "      <td>NaN</td>\n",
       "      <td>4.0</td>\n",
       "      <td>NaN</td>\n",
       "    </tr>\n",
       "  </tbody>\n",
       "</table>\n",
       "</div>"
      ],
      "text/plain": [
       "   one  two  three\n",
       "a  1.0  1.0    1.0\n",
       "b  2.0  2.0    4.0\n",
       "c  3.0  3.0    9.0\n",
       "d  NaN  4.0    NaN"
      ]
     },
     "execution_count": 65,
     "metadata": {},
     "output_type": "execute_result"
    }
   ],
   "source": [
    "df['three'] = df['one'] * df['two']\n",
    "df"
   ]
  },
  {
   "cell_type": "markdown",
   "metadata": {},
   "source": [
    "Note that data conventional indexing (as a dictionary) accesses data by column (df['one'] gives a Series, but df['a'] gives error. This also in assignment. The opposite is true when data are addressed by rows using iloc property of the structure.\n",
    "\n",
    "This returns a Series, index of which can be then accessed: "
   ]
  },
  {
   "cell_type": "code",
   "execution_count": 80,
   "metadata": {},
   "outputs": [
    {
     "data": {
      "text/plain": [
       "1.0"
      ]
     },
     "execution_count": 80,
     "metadata": {},
     "output_type": "execute_result"
    }
   ],
   "source": [
    "df['one']['a']"
   ]
  },
  {
   "cell_type": "markdown",
   "metadata": {},
   "source": [
    "Note however that this explcit syntax is the only one allowed, is it not possible in this format to access data with a real multidimensional index in analogy with array (or with an hypotetic dictionary with multi-dimensional keys).\n",
    "Any other combination fails, e.g. df['loc','a']"
   ]
  },
  {
   "cell_type": "code",
   "execution_count": 70,
   "metadata": {},
   "outputs": [
    {
     "data": {
      "text/plain": [
       "one      1.0\n",
       "two      1.0\n",
       "three    1.0\n",
       "Name: a, dtype: float64"
      ]
     },
     "execution_count": 70,
     "metadata": {},
     "output_type": "execute_result"
    }
   ],
   "source": [
    "df.loc['a']"
   ]
  },
  {
   "cell_type": "markdown",
   "metadata": {},
   "source": [
    "http://pandas-docs.github.io/pandas-docs-travis/dsintro.html#panel\n",
    "    \n",
    "The basics of indexing are as follows:\n",
    "Operation \tSyntax \tResult\n",
    "Select column \tdf[col] \tSeries\n",
    "Select row by label \tdf.loc[label] \tSeries\n",
    "Select row by integer location \tdf.iloc[loc] \tSeries\n",
    "Slice rows \tdf[5:10] \tDataFrame\n",
    "Select rows by boolean vector \tdf[bool_vec] \tDataFrame"
   ]
  },
  {
   "cell_type": "code",
   "execution_count": 95,
   "metadata": {},
   "outputs": [
    {
     "data": {
      "text/html": [
       "<div>\n",
       "<style scoped>\n",
       "    .dataframe tbody tr th:only-of-type {\n",
       "        vertical-align: middle;\n",
       "    }\n",
       "\n",
       "    .dataframe tbody tr th {\n",
       "        vertical-align: top;\n",
       "    }\n",
       "\n",
       "    .dataframe thead th {\n",
       "        text-align: right;\n",
       "    }\n",
       "</style>\n",
       "<table border=\"1\" class=\"dataframe\">\n",
       "  <thead>\n",
       "    <tr style=\"text-align: right;\">\n",
       "      <th></th>\n",
       "      <th>A</th>\n",
       "      <th>B</th>\n",
       "      <th>C</th>\n",
       "      <th>D</th>\n",
       "    </tr>\n",
       "  </thead>\n",
       "  <tbody>\n",
       "    <tr>\n",
       "      <th>2000-01-01</th>\n",
       "      <td>0.708203</td>\n",
       "      <td>0.391373</td>\n",
       "      <td>-0.459411</td>\n",
       "      <td>-0.813855</td>\n",
       "    </tr>\n",
       "    <tr>\n",
       "      <th>2000-01-02</th>\n",
       "      <td>1.886631</td>\n",
       "      <td>-1.911481</td>\n",
       "      <td>0.463731</td>\n",
       "      <td>-0.239855</td>\n",
       "    </tr>\n",
       "    <tr>\n",
       "      <th>2000-01-03</th>\n",
       "      <td>-1.701735</td>\n",
       "      <td>-1.209308</td>\n",
       "      <td>-1.597629</td>\n",
       "      <td>0.800465</td>\n",
       "    </tr>\n",
       "    <tr>\n",
       "      <th>2000-01-04</th>\n",
       "      <td>0.592675</td>\n",
       "      <td>1.136078</td>\n",
       "      <td>-0.409733</td>\n",
       "      <td>-0.380906</td>\n",
       "    </tr>\n",
       "    <tr>\n",
       "      <th>2000-01-05</th>\n",
       "      <td>-1.471722</td>\n",
       "      <td>-0.707108</td>\n",
       "      <td>-0.147781</td>\n",
       "      <td>0.121781</td>\n",
       "    </tr>\n",
       "    <tr>\n",
       "      <th>2000-01-06</th>\n",
       "      <td>-0.662373</td>\n",
       "      <td>-0.207777</td>\n",
       "      <td>2.129353</td>\n",
       "      <td>-0.404103</td>\n",
       "    </tr>\n",
       "    <tr>\n",
       "      <th>2000-01-07</th>\n",
       "      <td>-0.040132</td>\n",
       "      <td>0.669778</td>\n",
       "      <td>-0.787987</td>\n",
       "      <td>0.844020</td>\n",
       "    </tr>\n",
       "    <tr>\n",
       "      <th>2000-01-08</th>\n",
       "      <td>-0.304281</td>\n",
       "      <td>-1.187803</td>\n",
       "      <td>0.763857</td>\n",
       "      <td>-1.008201</td>\n",
       "    </tr>\n",
       "  </tbody>\n",
       "</table>\n",
       "</div>"
      ],
      "text/plain": [
       "                   A         B         C         D\n",
       "2000-01-01  0.708203  0.391373 -0.459411 -0.813855\n",
       "2000-01-02  1.886631 -1.911481  0.463731 -0.239855\n",
       "2000-01-03 -1.701735 -1.209308 -1.597629  0.800465\n",
       "2000-01-04  0.592675  1.136078 -0.409733 -0.380906\n",
       "2000-01-05 -1.471722 -0.707108 -0.147781  0.121781\n",
       "2000-01-06 -0.662373 -0.207777  2.129353 -0.404103\n",
       "2000-01-07 -0.040132  0.669778 -0.787987  0.844020\n",
       "2000-01-08 -0.304281 -1.187803  0.763857 -1.008201"
      ]
     },
     "execution_count": 95,
     "metadata": {},
     "output_type": "execute_result"
    }
   ],
   "source": [
    "dates = pd.date_range('1/1/2000', periods=8)\n",
    "df = pd.DataFrame(np.random.randn(8, 4), index=dates, columns=['A', 'B', 'C', 'D'])\n",
    "df"
   ]
  },
  {
   "cell_type": "code",
   "execution_count": null,
   "metadata": {},
   "outputs": [],
   "source": []
  },
  {
   "cell_type": "code",
   "execution_count": 96,
   "metadata": {},
   "outputs": [
    {
     "name": "stdout",
     "output_type": "stream",
     "text": [
      "first  second  3rd digit\n",
      "0      0       0            0\n",
      "               1            1\n",
      "       1       0            2\n",
      "               1            3\n",
      "1      0       0            4\n",
      "               1            5\n",
      "       1       0            6\n",
      "               1            7\n",
      "Name: decimal, dtype: int64\n"
     ]
    }
   ],
   "source": [
    "mi=pd.MultiIndex.from_product([['0','1']]*3, \n",
    "                              names=['first', 'second','3rd digit'])\n",
    "s = pd.Series([int(\"\".join((str(d1),str(d2),str(d3))),2)\n",
    "               for d1,d2,d3 in zip(*(mi.labels))], \n",
    "              index=mi,name='decimal')\n",
    "print(s)"
   ]
  },
  {
   "cell_type": "code",
   "execution_count": 101,
   "metadata": {},
   "outputs": [
    {
     "name": "stdout",
     "output_type": "stream",
     "text": [
      "MultiIndex(levels=[['0', '1'], ['0', '1'], ['0', '1']],\n",
      "           labels=[[0, 0, 0, 0, 1, 1, 1, 1], [0, 0, 1, 1, 0, 0, 1, 1], [0, 1, 0, 1, 0, 1, 0, 1]],\n",
      "           names=['first', 'second', '3rd digit'])\n"
     ]
    },
    {
     "data": {
      "text/html": [
       "<div>\n",
       "<style scoped>\n",
       "    .dataframe tbody tr th:only-of-type {\n",
       "        vertical-align: middle;\n",
       "    }\n",
       "\n",
       "    .dataframe tbody tr th {\n",
       "        vertical-align: top;\n",
       "    }\n",
       "\n",
       "    .dataframe thead th {\n",
       "        text-align: right;\n",
       "    }\n",
       "</style>\n",
       "<table border=\"1\" class=\"dataframe\">\n",
       "  <thead>\n",
       "    <tr style=\"text-align: right;\">\n",
       "      <th></th>\n",
       "      <th></th>\n",
       "      <th></th>\n",
       "      <th>decimal</th>\n",
       "    </tr>\n",
       "    <tr>\n",
       "      <th>first</th>\n",
       "      <th>second</th>\n",
       "      <th>3rd digit</th>\n",
       "      <th></th>\n",
       "    </tr>\n",
       "  </thead>\n",
       "  <tbody>\n",
       "    <tr>\n",
       "      <th rowspan=\"4\" valign=\"top\">0</th>\n",
       "      <th rowspan=\"2\" valign=\"top\">0</th>\n",
       "      <th>0</th>\n",
       "      <td>0</td>\n",
       "    </tr>\n",
       "    <tr>\n",
       "      <th>1</th>\n",
       "      <td>1</td>\n",
       "    </tr>\n",
       "    <tr>\n",
       "      <th rowspan=\"2\" valign=\"top\">1</th>\n",
       "      <th>0</th>\n",
       "      <td>2</td>\n",
       "    </tr>\n",
       "    <tr>\n",
       "      <th>1</th>\n",
       "      <td>3</td>\n",
       "    </tr>\n",
       "    <tr>\n",
       "      <th rowspan=\"4\" valign=\"top\">1</th>\n",
       "      <th rowspan=\"2\" valign=\"top\">0</th>\n",
       "      <th>0</th>\n",
       "      <td>4</td>\n",
       "    </tr>\n",
       "    <tr>\n",
       "      <th>1</th>\n",
       "      <td>5</td>\n",
       "    </tr>\n",
       "    <tr>\n",
       "      <th rowspan=\"2\" valign=\"top\">1</th>\n",
       "      <th>0</th>\n",
       "      <td>6</td>\n",
       "    </tr>\n",
       "    <tr>\n",
       "      <th>1</th>\n",
       "      <td>7</td>\n",
       "    </tr>\n",
       "  </tbody>\n",
       "</table>\n",
       "</div>"
      ],
      "text/plain": [
       "                        decimal\n",
       "first second 3rd digit         \n",
       "0     0      0                0\n",
       "             1                1\n",
       "      1      0                2\n",
       "             1                3\n",
       "1     0      0                4\n",
       "             1                5\n",
       "      1      0                6\n",
       "             1                7"
      ]
     },
     "execution_count": 101,
     "metadata": {},
     "output_type": "execute_result"
    }
   ],
   "source": [
    "print (pd.DataFrame(s).index)\n",
    "pd.DataFrame(s)"
   ]
  },
  {
   "cell_type": "code",
   "execution_count": 102,
   "metadata": {},
   "outputs": [
    {
     "name": "stdout",
     "output_type": "stream",
     "text": [
      "RangeIndex(start=0, stop=8, step=1)\n"
     ]
    },
    {
     "data": {
      "text/html": [
       "<div>\n",
       "<style scoped>\n",
       "    .dataframe tbody tr th:only-of-type {\n",
       "        vertical-align: middle;\n",
       "    }\n",
       "\n",
       "    .dataframe tbody tr th {\n",
       "        vertical-align: top;\n",
       "    }\n",
       "\n",
       "    .dataframe thead th {\n",
       "        text-align: right;\n",
       "    }\n",
       "</style>\n",
       "<table border=\"1\" class=\"dataframe\">\n",
       "  <thead>\n",
       "    <tr style=\"text-align: right;\">\n",
       "      <th></th>\n",
       "      <th>first</th>\n",
       "      <th>second</th>\n",
       "      <th>3rd digit</th>\n",
       "      <th>decimal</th>\n",
       "    </tr>\n",
       "  </thead>\n",
       "  <tbody>\n",
       "    <tr>\n",
       "      <th>0</th>\n",
       "      <td>0</td>\n",
       "      <td>0</td>\n",
       "      <td>0</td>\n",
       "      <td>0</td>\n",
       "    </tr>\n",
       "    <tr>\n",
       "      <th>1</th>\n",
       "      <td>0</td>\n",
       "      <td>0</td>\n",
       "      <td>1</td>\n",
       "      <td>1</td>\n",
       "    </tr>\n",
       "    <tr>\n",
       "      <th>2</th>\n",
       "      <td>0</td>\n",
       "      <td>1</td>\n",
       "      <td>0</td>\n",
       "      <td>2</td>\n",
       "    </tr>\n",
       "    <tr>\n",
       "      <th>3</th>\n",
       "      <td>0</td>\n",
       "      <td>1</td>\n",
       "      <td>1</td>\n",
       "      <td>3</td>\n",
       "    </tr>\n",
       "    <tr>\n",
       "      <th>4</th>\n",
       "      <td>1</td>\n",
       "      <td>0</td>\n",
       "      <td>0</td>\n",
       "      <td>4</td>\n",
       "    </tr>\n",
       "    <tr>\n",
       "      <th>5</th>\n",
       "      <td>1</td>\n",
       "      <td>0</td>\n",
       "      <td>1</td>\n",
       "      <td>5</td>\n",
       "    </tr>\n",
       "    <tr>\n",
       "      <th>6</th>\n",
       "      <td>1</td>\n",
       "      <td>1</td>\n",
       "      <td>0</td>\n",
       "      <td>6</td>\n",
       "    </tr>\n",
       "    <tr>\n",
       "      <th>7</th>\n",
       "      <td>1</td>\n",
       "      <td>1</td>\n",
       "      <td>1</td>\n",
       "      <td>7</td>\n",
       "    </tr>\n",
       "  </tbody>\n",
       "</table>\n",
       "</div>"
      ],
      "text/plain": [
       "  first second 3rd digit  decimal\n",
       "0     0      0         0        0\n",
       "1     0      0         1        1\n",
       "2     0      1         0        2\n",
       "3     0      1         1        3\n",
       "4     1      0         0        4\n",
       "5     1      0         1        5\n",
       "6     1      1         0        6\n",
       "7     1      1         1        7"
      ]
     },
     "execution_count": 102,
     "metadata": {},
     "output_type": "execute_result"
    }
   ],
   "source": [
    "print(pd.DataFrame(s).reset_index().index)\n",
    "pd.DataFrame(s).reset_index()"
   ]
  },
  {
   "cell_type": "markdown",
   "metadata": {},
   "source": [
    "MultiIndex avoids the need to access data by sequential indices and allows access in a similar way as a ndarray (or an hypotetical multi-dimensional dictionary key)."
   ]
  },
  {
   "cell_type": "code",
   "execution_count": 106,
   "metadata": {},
   "outputs": [
    {
     "data": {
      "text/plain": [
       "3rd digit\n",
       "0    2\n",
       "1    3\n",
       "Name: decimal, dtype: int64"
      ]
     },
     "execution_count": 106,
     "metadata": {},
     "output_type": "execute_result"
    }
   ],
   "source": [
    "s['0','1']"
   ]
  },
  {
   "cell_type": "code",
   "execution_count": 109,
   "metadata": {},
   "outputs": [
    {
     "data": {
      "text/plain": [
       "second  3rd digit\n",
       "0       0            0\n",
       "        1            1\n",
       "1       0            2\n",
       "        1            3\n",
       "Name: decimal, dtype: int64"
      ]
     },
     "execution_count": 109,
     "metadata": {},
     "output_type": "execute_result"
    }
   ],
   "source": [
    "s.loc['0']"
   ]
  },
  {
   "cell_type": "code",
   "execution_count": 107,
   "metadata": {},
   "outputs": [
    {
     "ename": "TypeError",
     "evalue": "('0', slice(None, None, None), '1')",
     "output_type": "error",
     "traceback": [
      "\u001b[1;31m---------------------------------------------------------------------------\u001b[0m",
      "\u001b[1;31mTypeError\u001b[0m                                 Traceback (most recent call last)",
      "\u001b[1;32m<ipython-input-107-0848648b364a>\u001b[0m in \u001b[0;36m<module>\u001b[1;34m()\u001b[0m\n\u001b[1;32m----> 1\u001b[1;33m \u001b[0ms\u001b[0m\u001b[1;33m[\u001b[0m\u001b[1;34m'0'\u001b[0m\u001b[1;33m,\u001b[0m\u001b[1;33m:\u001b[0m\u001b[1;33m,\u001b[0m\u001b[1;34m'1'\u001b[0m\u001b[1;33m]\u001b[0m\u001b[1;33m\u001b[0m\u001b[0m\n\u001b[0m",
      "\u001b[1;32mC:\\Anaconda2\\envs\\py36\\lib\\site-packages\\pandas\\core\\series.py\u001b[0m in \u001b[0;36m__getitem__\u001b[1;34m(self, key)\u001b[0m\n\u001b[0;32m    662\u001b[0m             \u001b[0mkey\u001b[0m \u001b[1;33m=\u001b[0m \u001b[0mcheck_bool_indexer\u001b[0m\u001b[1;33m(\u001b[0m\u001b[0mself\u001b[0m\u001b[1;33m.\u001b[0m\u001b[0mindex\u001b[0m\u001b[1;33m,\u001b[0m \u001b[0mkey\u001b[0m\u001b[1;33m)\u001b[0m\u001b[1;33m\u001b[0m\u001b[0m\n\u001b[0;32m    663\u001b[0m \u001b[1;33m\u001b[0m\u001b[0m\n\u001b[1;32m--> 664\u001b[1;33m         \u001b[1;32mreturn\u001b[0m \u001b[0mself\u001b[0m\u001b[1;33m.\u001b[0m\u001b[0m_get_with\u001b[0m\u001b[1;33m(\u001b[0m\u001b[0mkey\u001b[0m\u001b[1;33m)\u001b[0m\u001b[1;33m\u001b[0m\u001b[0m\n\u001b[0m\u001b[0;32m    665\u001b[0m \u001b[1;33m\u001b[0m\u001b[0m\n\u001b[0;32m    666\u001b[0m     \u001b[1;32mdef\u001b[0m \u001b[0m_get_with\u001b[0m\u001b[1;33m(\u001b[0m\u001b[0mself\u001b[0m\u001b[1;33m,\u001b[0m \u001b[0mkey\u001b[0m\u001b[1;33m)\u001b[0m\u001b[1;33m:\u001b[0m\u001b[1;33m\u001b[0m\u001b[0m\n",
      "\u001b[1;32mC:\\Anaconda2\\envs\\py36\\lib\\site-packages\\pandas\\core\\series.py\u001b[0m in \u001b[0;36m_get_with\u001b[1;34m(self, key)\u001b[0m\n\u001b[0;32m    675\u001b[0m             \u001b[1;32mif\u001b[0m \u001b[0misinstance\u001b[0m\u001b[1;33m(\u001b[0m\u001b[0mkey\u001b[0m\u001b[1;33m,\u001b[0m \u001b[0mtuple\u001b[0m\u001b[1;33m)\u001b[0m\u001b[1;33m:\u001b[0m\u001b[1;33m\u001b[0m\u001b[0m\n\u001b[0;32m    676\u001b[0m                 \u001b[1;32mtry\u001b[0m\u001b[1;33m:\u001b[0m\u001b[1;33m\u001b[0m\u001b[0m\n\u001b[1;32m--> 677\u001b[1;33m                     \u001b[1;32mreturn\u001b[0m \u001b[0mself\u001b[0m\u001b[1;33m.\u001b[0m\u001b[0m_get_values_tuple\u001b[0m\u001b[1;33m(\u001b[0m\u001b[0mkey\u001b[0m\u001b[1;33m)\u001b[0m\u001b[1;33m\u001b[0m\u001b[0m\n\u001b[0m\u001b[0;32m    678\u001b[0m                 \u001b[1;32mexcept\u001b[0m \u001b[0mException\u001b[0m\u001b[1;33m:\u001b[0m\u001b[1;33m\u001b[0m\u001b[0m\n\u001b[0;32m    679\u001b[0m                     \u001b[1;32mif\u001b[0m \u001b[0mlen\u001b[0m\u001b[1;33m(\u001b[0m\u001b[0mkey\u001b[0m\u001b[1;33m)\u001b[0m \u001b[1;33m==\u001b[0m \u001b[1;36m1\u001b[0m\u001b[1;33m:\u001b[0m\u001b[1;33m\u001b[0m\u001b[0m\n",
      "\u001b[1;32mC:\\Anaconda2\\envs\\py36\\lib\\site-packages\\pandas\\core\\series.py\u001b[0m in \u001b[0;36m_get_values_tuple\u001b[1;34m(self, key)\u001b[0m\n\u001b[0;32m    723\u001b[0m \u001b[1;33m\u001b[0m\u001b[0m\n\u001b[0;32m    724\u001b[0m         \u001b[1;31m# If key is contained, would have returned by now\u001b[0m\u001b[1;33m\u001b[0m\u001b[1;33m\u001b[0m\u001b[0m\n\u001b[1;32m--> 725\u001b[1;33m         \u001b[0mindexer\u001b[0m\u001b[1;33m,\u001b[0m \u001b[0mnew_index\u001b[0m \u001b[1;33m=\u001b[0m \u001b[0mself\u001b[0m\u001b[1;33m.\u001b[0m\u001b[0mindex\u001b[0m\u001b[1;33m.\u001b[0m\u001b[0mget_loc_level\u001b[0m\u001b[1;33m(\u001b[0m\u001b[0mkey\u001b[0m\u001b[1;33m)\u001b[0m\u001b[1;33m\u001b[0m\u001b[0m\n\u001b[0m\u001b[0;32m    726\u001b[0m         return self._constructor(self._values[indexer],\n\u001b[0;32m    727\u001b[0m                                  index=new_index).__finalize__(self)\n",
      "\u001b[1;32mC:\\Anaconda2\\envs\\py36\\lib\\site-packages\\pandas\\core\\indexes\\multi.py\u001b[0m in \u001b[0;36mget_loc_level\u001b[1;34m(self, key, level, drop_level)\u001b[0m\n\u001b[0;32m   2268\u001b[0m                             \u001b[1;32mcontinue\u001b[0m\u001b[1;33m\u001b[0m\u001b[0m\n\u001b[0;32m   2269\u001b[0m                         \u001b[1;32melse\u001b[0m\u001b[1;33m:\u001b[0m\u001b[1;33m\u001b[0m\u001b[0m\n\u001b[1;32m-> 2270\u001b[1;33m                             \u001b[1;32mraise\u001b[0m \u001b[0mTypeError\u001b[0m\u001b[1;33m(\u001b[0m\u001b[0mkey\u001b[0m\u001b[1;33m)\u001b[0m\u001b[1;33m\u001b[0m\u001b[0m\n\u001b[0m\u001b[0;32m   2271\u001b[0m \u001b[1;33m\u001b[0m\u001b[0m\n\u001b[0;32m   2272\u001b[0m                     \u001b[1;32mif\u001b[0m \u001b[0mindexer\u001b[0m \u001b[1;32mis\u001b[0m \u001b[1;32mNone\u001b[0m\u001b[1;33m:\u001b[0m\u001b[1;33m\u001b[0m\u001b[0m\n",
      "\u001b[1;31mTypeError\u001b[0m: ('0', slice(None, None, None), '1')"
     ]
    }
   ],
   "source": [
    "s['0',:,'1']"
   ]
  },
  {
   "cell_type": "code",
   "execution_count": 48,
   "metadata": {},
   "outputs": [
    {
     "data": {
      "text/html": [
       "<div>\n",
       "<style scoped>\n",
       "    .dataframe tbody tr th:only-of-type {\n",
       "        vertical-align: middle;\n",
       "    }\n",
       "\n",
       "    .dataframe tbody tr th {\n",
       "        vertical-align: top;\n",
       "    }\n",
       "\n",
       "    .dataframe thead tr th {\n",
       "        text-align: left;\n",
       "    }\n",
       "</style>\n",
       "<table border=\"1\" class=\"dataframe\">\n",
       "  <thead>\n",
       "    <tr>\n",
       "      <th>first</th>\n",
       "      <th colspan=\"2\" halign=\"left\">bar</th>\n",
       "      <th colspan=\"2\" halign=\"left\">baz</th>\n",
       "      <th colspan=\"2\" halign=\"left\">foo</th>\n",
       "      <th colspan=\"2\" halign=\"left\">qux</th>\n",
       "    </tr>\n",
       "    <tr>\n",
       "      <th>second</th>\n",
       "      <th>one</th>\n",
       "      <th>two</th>\n",
       "      <th>one</th>\n",
       "      <th>two</th>\n",
       "      <th>one</th>\n",
       "      <th>two</th>\n",
       "      <th>one</th>\n",
       "      <th>two</th>\n",
       "    </tr>\n",
       "  </thead>\n",
       "  <tbody>\n",
       "    <tr>\n",
       "      <th>A</th>\n",
       "      <td>0.409903</td>\n",
       "      <td>0.670529</td>\n",
       "      <td>-1.025956</td>\n",
       "      <td>-0.491069</td>\n",
       "      <td>1.872768</td>\n",
       "      <td>-1.341155</td>\n",
       "      <td>0.196594</td>\n",
       "      <td>-0.357962</td>\n",
       "    </tr>\n",
       "    <tr>\n",
       "      <th>B</th>\n",
       "      <td>-1.883635</td>\n",
       "      <td>0.272524</td>\n",
       "      <td>-0.383152</td>\n",
       "      <td>-0.317010</td>\n",
       "      <td>1.737341</td>\n",
       "      <td>0.856306</td>\n",
       "      <td>1.007251</td>\n",
       "      <td>2.301049</td>\n",
       "    </tr>\n",
       "    <tr>\n",
       "      <th>C</th>\n",
       "      <td>0.230527</td>\n",
       "      <td>-0.460999</td>\n",
       "      <td>-0.140931</td>\n",
       "      <td>1.095217</td>\n",
       "      <td>0.351266</td>\n",
       "      <td>1.061561</td>\n",
       "      <td>0.319736</td>\n",
       "      <td>-0.482182</td>\n",
       "    </tr>\n",
       "  </tbody>\n",
       "</table>\n",
       "</div>"
      ],
      "text/plain": [
       "first        bar                 baz                 foo                 qux  \\\n",
       "second       one       two       one       two       one       two       one   \n",
       "A       0.409903  0.670529 -1.025956 -0.491069  1.872768 -1.341155  0.196594   \n",
       "B      -1.883635  0.272524 -0.383152 -0.317010  1.737341  0.856306  1.007251   \n",
       "C       0.230527 -0.460999 -0.140931  1.095217  0.351266  1.061561  0.319736   \n",
       "\n",
       "first             \n",
       "second       two  \n",
       "A      -0.357962  \n",
       "B       2.301049  \n",
       "C      -0.482182  "
      ]
     },
     "execution_count": 48,
     "metadata": {},
     "output_type": "execute_result"
    }
   ],
   "source": [
    "arrays = [['bar', 'bar', 'baz', 'baz', 'foo', 'foo', 'qux', 'qux'],\n",
    "   ...:           ['one', 'two', 'one', 'two', 'one', 'two', 'one', 'two']]\n",
    "\n",
    "\n",
    "tuples = list(zip(*arrays))\n",
    "index = pd.MultiIndex.from_tuples(tuples, names=['first', 'second'])\n",
    "\n",
    "df = pd.DataFrame(np.random.randn(3, 8), index=['A', 'B', 'C'], columns=index)\n",
    "df"
   ]
  },
  {
   "cell_type": "code",
   "execution_count": 49,
   "metadata": {},
   "outputs": [
    {
     "name": "stdout",
     "output_type": "stream",
     "text": [
      "second       one       two\n",
      "A       0.409903  0.670529\n",
      "B      -1.883635  0.272524\n",
      "C       0.230527 -0.460999\n",
      "--\n",
      "A    0.409903\n",
      "B   -1.883635\n",
      "C    0.230527\n",
      "Name: one, dtype: float64\n",
      "--\n",
      "0.40990258739958774\n"
     ]
    }
   ],
   "source": [
    "#this works only accessing ALL indices IN THIS ORDER\n",
    "print(df['bar'])\n",
    "print('--')\n",
    "print(df['bar']['one'])\n",
    "print('--')\n",
    "print(df['bar']['one']['A'])"
   ]
  },
  {
   "cell_type": "markdown",
   "metadata": {},
   "source": [
    "Note however what is said at http://pandas-docs.github.io/pandas-docs-travis/indexing.html#indexing-view-versus-copy about `chained indexing`"
   ]
  },
  {
   "cell_type": "code",
   "execution_count": 53,
   "metadata": {},
   "outputs": [
    {
     "name": "stdout",
     "output_type": "stream",
     "text": [
      "df['bar'][:]['A'] gives KeyError\n"
     ]
    },
    {
     "data": {
      "text/html": [
       "<div>\n",
       "<style scoped>\n",
       "    .dataframe tbody tr th:only-of-type {\n",
       "        vertical-align: middle;\n",
       "    }\n",
       "\n",
       "    .dataframe tbody tr th {\n",
       "        vertical-align: top;\n",
       "    }\n",
       "\n",
       "    .dataframe thead tr th {\n",
       "        text-align: left;\n",
       "    }\n",
       "</style>\n",
       "<table border=\"1\" class=\"dataframe\">\n",
       "  <thead>\n",
       "    <tr>\n",
       "      <th>first</th>\n",
       "      <th colspan=\"2\" halign=\"left\">bar</th>\n",
       "    </tr>\n",
       "    <tr>\n",
       "      <th>second</th>\n",
       "      <th>one</th>\n",
       "      <th>two</th>\n",
       "    </tr>\n",
       "  </thead>\n",
       "  <tbody>\n",
       "    <tr>\n",
       "      <th>A</th>\n",
       "      <td>0.409903</td>\n",
       "      <td>0.670529</td>\n",
       "    </tr>\n",
       "    <tr>\n",
       "      <th>B</th>\n",
       "      <td>-1.883635</td>\n",
       "      <td>0.272524</td>\n",
       "    </tr>\n",
       "    <tr>\n",
       "      <th>C</th>\n",
       "      <td>0.230527</td>\n",
       "      <td>-0.460999</td>\n",
       "    </tr>\n",
       "  </tbody>\n",
       "</table>\n",
       "</div>"
      ],
      "text/plain": [
       "first        bar          \n",
       "second       one       two\n",
       "A       0.409903  0.670529\n",
       "B      -1.883635  0.272524\n",
       "C       0.230527 -0.460999"
      ]
     },
     "execution_count": 53,
     "metadata": {},
     "output_type": "execute_result"
    }
   ],
   "source": [
    "try:\n",
    "    print(df['bar'][:]['A'])\n",
    "except KeyError:\n",
    "    print (\"df['bar'][:]['A'] gives KeyError\")\n",
    "\n",
    "df.loc[:,['bar','one','A']]"
   ]
  },
  {
   "cell_type": "code",
   "execution_count": 61,
   "metadata": {},
   "outputs": [
    {
     "data": {
      "text/html": [
       "<div>\n",
       "<style scoped>\n",
       "    .dataframe tbody tr th:only-of-type {\n",
       "        vertical-align: middle;\n",
       "    }\n",
       "\n",
       "    .dataframe tbody tr th {\n",
       "        vertical-align: top;\n",
       "    }\n",
       "\n",
       "    .dataframe thead th {\n",
       "        text-align: right;\n",
       "    }\n",
       "</style>\n",
       "<table border=\"1\" class=\"dataframe\">\n",
       "  <thead>\n",
       "    <tr style=\"text-align: right;\">\n",
       "      <th>second</th>\n",
       "      <th>one</th>\n",
       "      <th>two</th>\n",
       "    </tr>\n",
       "  </thead>\n",
       "  <tbody>\n",
       "    <tr>\n",
       "      <th>A</th>\n",
       "      <td>0.409903</td>\n",
       "      <td>0.670529</td>\n",
       "    </tr>\n",
       "    <tr>\n",
       "      <th>B</th>\n",
       "      <td>-1.883635</td>\n",
       "      <td>0.272524</td>\n",
       "    </tr>\n",
       "    <tr>\n",
       "      <th>C</th>\n",
       "      <td>0.230527</td>\n",
       "      <td>-0.460999</td>\n",
       "    </tr>\n",
       "  </tbody>\n",
       "</table>\n",
       "</div>"
      ],
      "text/plain": [
       "second       one       two\n",
       "A       0.409903  0.670529\n",
       "B      -1.883635  0.272524\n",
       "C       0.230527 -0.460999"
      ]
     },
     "execution_count": 61,
     "metadata": {},
     "output_type": "execute_result"
    }
   ],
   "source": [
    "df.loc[:,('bar')]"
   ]
  },
  {
   "cell_type": "code",
   "execution_count": 62,
   "metadata": {},
   "outputs": [],
   "source": [
    "%qtconsole"
   ]
  },
  {
   "cell_type": "markdown",
   "metadata": {},
   "source": [
    "TODO: assign method, selection by callable http://pandas-docs.github.io/pandas-docs-travis/dsintro.html#panel\n",
    "\n",
    "\n",
    "Difference between addressing multiindex with tuple or list\n",
    "\n"
   ]
  },
  {
   "cell_type": "code",
   "execution_count": null,
   "metadata": {},
   "outputs": [],
   "source": []
  },
  {
   "cell_type": "markdown",
   "metadata": {},
   "source": [
    "## Comparison operators and Truth values"
   ]
  },
  {
   "cell_type": "code",
   "execution_count": null,
   "metadata": {},
   "outputs": [],
   "source": [
    "a=1\n",
    "if a:print a"
   ]
  },
  {
   "cell_type": "code",
   "execution_count": null,
   "metadata": {},
   "outputs": [],
   "source": [
    "if None:\n",
    "    print 'None is' \n",
    "else:\n",
    "    print 'None is not'"
   ]
  },
  {
   "cell_type": "code",
   "execution_count": null,
   "metadata": {},
   "outputs": [],
   "source": [
    "#None is neither True or False, but not(None) is True\n",
    "if None==True:\n",
    "    print ('None is True')\n",
    "else:\n",
    "    print ('None is not True')"
   ]
  },
  {
   "cell_type": "code",
   "execution_count": null,
   "metadata": {},
   "outputs": [],
   "source": [
    "if None==False:\n",
    "    print ('None is False')\n",
    "else:\n",
    "    print ('None is not False')"
   ]
  },
  {
   "cell_type": "code",
   "execution_count": null,
   "metadata": {},
   "outputs": [],
   "source": [
    "#want a proof?\n",
    "not(None)"
   ]
  },
  {
   "cell_type": "code",
   "execution_count": null,
   "metadata": {},
   "outputs": [],
   "source": [
    "if not(None): print \"None isn't\" "
   ]
  },
  {
   "cell_type": "code",
   "execution_count": null,
   "metadata": {},
   "outputs": [],
   "source": [
    "if not(None)==True: print \"None isn't\" "
   ]
  },
  {
   "cell_type": "code",
   "execution_count": null,
   "metadata": {},
   "outputs": [],
   "source": [
    "\n",
    "not([]),not(None)"
   ]
  },
  {
   "cell_type": "markdown",
   "metadata": {},
   "source": [
    "The code below tests how different values behave in comparison. A visible contraddiction is that None (or an empty list) is not either False or True, but not(None) (or not([])) is True. It is consistent if comparison with False are NEVER used.\n",
    "The code illustrates the use of *args and the passing functions as arguments to other functions."
   ]
  },
  {
   "cell_type": "code",
   "execution_count": null,
   "metadata": {},
   "outputs": [],
   "source": [
    "def IS(*args):\n",
    "    for arg in args:\n",
    "         if arg: print arg,' is' \n",
    "         else: print arg, \"isn't\"\n",
    "                    \n",
    "def isTrue(*args):\n",
    "    for arg in args:\n",
    "         if arg==True: print arg,' is True' \n",
    "         else: print arg, \"isn't True\"\n",
    "                    \n",
    "def isFalse(*args):\n",
    "    for arg in args:\n",
    "         if arg==False: print arg,' is False' \n",
    "         else: print arg, \"isn't False, is it then True?\",arg==True\n",
    "                    \n",
    "def test(testFuncs,testValues):\n",
    "    print 'testValues: ',testValues\n",
    "    print 'Note: the above values are the values calculated at value access, for value definition see code.\\n'\n",
    "    for func in testFuncs:\n",
    "        print func\n",
    "        func(*testValues)\n",
    "        print'\\n----\\n',\n",
    "                    \n",
    "testValues=[False,None,b,not(None)] #list of calues to test, they are passed to the testFunctions                    \n",
    "testFuncs=[IS,isTrue,isFalse] #list of the functions to test the Values\n",
    "test(testFuncs,testValues)"
   ]
  },
  {
   "cell_type": "code",
   "execution_count": null,
   "metadata": {},
   "outputs": [],
   "source": [
    "#The empty list behaves in the same way as None:\n",
    "test(testFuncs,[None,[],[[]],not([])])"
   ]
  },
  {
   "cell_type": "markdown",
   "metadata": {},
   "source": [
    "0 is False and 1 is True, but 3 is neither one"
   ]
  },
  {
   "cell_type": "code",
   "execution_count": null,
   "metadata": {},
   "outputs": [],
   "source": [
    "test(testFuncs,[0,1,3,-1])"
   ]
  },
  {
   "cell_type": "code",
   "execution_count": null,
   "metadata": {},
   "outputs": [],
   "source": [
    "isTrue(bgaa)"
   ]
  },
  {
   "cell_type": "markdown",
   "metadata": {},
   "source": [
    "In both cases, the execution stopped at the function call and it cannot continue. Number of arguments is checked then. What else is checked at function call, if anything?"
   ]
  },
  {
   "cell_type": "code",
   "execution_count": null,
   "metadata": {},
   "outputs": [],
   "source": [
    "%debug"
   ]
  },
  {
   "cell_type": "code",
   "execution_count": null,
   "metadata": {},
   "outputs": [],
   "source": [
    "isTrue() #This evaluates to *args=[], the loop over args is skipped. "
   ]
  },
  {
   "cell_type": "code",
   "execution_count": null,
   "metadata": {},
   "outputs": [],
   "source": [
    "test(testFuncs,[[1,2,3],[0],[[],[]]])"
   ]
  },
  {
   "cell_type": "code",
   "execution_count": null,
   "metadata": {},
   "outputs": [],
   "source": [
    "import numpy as np\n",
    "IS(np.arange(5))"
   ]
  },
  {
   "cell_type": "markdown",
   "metadata": {},
   "source": [
    "This is due to how comparison operators operate on arrays"
   ]
  },
  {
   "cell_type": "code",
   "execution_count": null,
   "metadata": {},
   "outputs": [],
   "source": [
    "a==True"
   ]
  },
  {
   "cell_type": "code",
   "execution_count": null,
   "metadata": {},
   "outputs": [],
   "source": [
    "a>=3"
   ]
  },
  {
   "cell_type": "code",
   "execution_count": null,
   "metadata": {},
   "outputs": [],
   "source": [
    "def funcwrong(x):\n",
    "     if x.any(): print 'x' \n",
    "     else: print 'no x'"
   ]
  },
  {
   "cell_type": "code",
   "execution_count": null,
   "metadata": {},
   "outputs": [],
   "source": [
    "funcwrong(a),funcwrong(np.zeros(5))"
   ]
  },
  {
   "cell_type": "code",
   "execution_count": null,
   "metadata": {},
   "outputs": [],
   "source": [
    "funcwrong([1,2,3]),funcwrong([0]),funcwrong([]),funcwrong([[],[]])"
   ]
  },
  {
   "cell_type": "markdown",
   "metadata": {},
   "source": [
    "How to check for truth a fubction argument that can be also a np array? where truth is defined as usual for other objects and works as for lists in arrays. Is there a conflict with boolean operations?"
   ]
  },
  {
   "cell_type": "markdown",
   "metadata": {},
   "source": [
    "# Function optional return values"
   ]
  },
  {
   "cell_type": "markdown",
   "metadata": {},
   "source": [
    "The example below illustrates the limitations of Python lacking optional return parameters (as opposite to IDL).\n",
    "In this case IDL return value management and argument checking mechanism (keyword_present, arg_present, etc., see Coyote's posts on the topic) would make it easy to include all in a general function able to return the intermediate values, allowing: 1) to calculate only the needed values; 2) to do only once calculations that are needed for more return values if they are requested.\n",
    "Is there a way to do this in python and avoid the explosion of routine names?\n",
    "Can modules be an alternative?"
   ]
  },
  {
   "cell_type": "code",
   "execution_count": null,
   "metadata": {},
   "outputs": [],
   "source": [
    "def merge_to_string(*args):\n",
    "    \"\"\"From a set of same length iteratables returns a list of string resulting \n",
    "    from joining the input vectors element-wise.\n",
    "    ex.:\n",
    "    >> merge_to_string([1,2,3],[4,5,6]) #['1 4', '2 5', '3 6']\n",
    "    \"\"\"\n",
    "    return [\" \".join(map(str,vals)) for vals in zip(*args)]\n",
    "\n",
    "def first_of_group_index(vector):\n",
    "    \"\"\"given an iterable that can contain repeated values, return a list of indices\n",
    "    for the first istance of each value present in the list.\n",
    "    ex.: \n",
    "    >> first_of_group_index([1,2,3,2,2,1,5,-1]) #[0,1,2,6,7]\n",
    "    \"\"\"\n",
    "    indices=[] #indices for which to plot labels\n",
    "    labels=[]\n",
    "    for i,val in enumerate(vector):\n",
    "        if not(val in labels):\n",
    "            labels.append(val)\n",
    "            indices.append(i)\n",
    "    return indices\n",
    "\n",
    "def dict_by_key(keys,values):\n",
    "    \"\"\"Create a dictionary grouping as lists values correponding to same key.\n",
    "    ID and values must be same number of elements. \"\"\"\n",
    "    \n",
    "    dic_by_key={}\n",
    "    for k,v in zip(keys,values):   # 0, ('L23a', 710.0, 24.0)\n",
    "        try:\n",
    "            if not(v in dic_by_key[k]):\n",
    "                dic_by_key[k].append(v)\n",
    "        except KeyError:\n",
    "            dic_by_key[k]=[v]\n",
    "    return dic_by_key\n",
    "\n",
    "def compress_values(dictionary,string_func=\"\\n\".join):\n",
    "    \"\"\"Given a dictionary, generate a string value for each dict value. \n",
    "    string_func is the function that transform each item in a string,\n",
    "    type checking is left to the user. Default merges list of strings as lines.\"\"\"\n",
    "    for k,v in dictionary.items():\n",
    "        #dictionary[k]=string_func(v)\n",
    "        dictionary[k]=string_func(v) #\"\\n\".join(v)\n",
    "    return dictionary\n",
    "\n",
    "def groupLabels(group,*args):\n",
    "    return compress_values(dict_by_key(group,merge_to_string(*args))),first_of_group_index(group)\n",
    "\n",
    "iPosLabel=first_of_group_index(group) #one element per group for label position.\n",
    "labels=merge_to_string(plotTemp,plotTime) #create one label for each group (not necessarily unique)\n",
    "txtLabels=compress_values(dict_by_key(group,labels)) #create one string with the label per group, txtLabels is a dictionary {group:label} \n",
    "txtLabels,iPosLabel  #all above lines are equivalent to groupLabels(group,plotTemp,plotTime)\n"
   ]
  },
  {
   "cell_type": "markdown",
   "metadata": {},
   "source": [
    "Now, assume I want to pass the string_func argument to groupLabels, how is the default argument mandaged? Is assigning None default argument the solution? IF it is, is there another way that doesn't assume the programmer followed the best practice (e.g. I have an unchangeable library where the programmer set string_func as in the above code, in this case passing None as string_function gives error)?"
   ]
  },
  {
   "cell_type": "markdown",
   "metadata": {},
   "source": [
    "# Attribute handling"
   ]
  },
  {
   "cell_type": "markdown",
   "metadata": {},
   "source": [
    "This is an example from:\n",
    "http://stackoverflow.com/questions/11145501/getattr-going-recursive-in-python\n",
    "Probably the author didn't understand what he wanted to do, but it has some interesting points."
   ]
  },
  {
   "cell_type": "code",
   "execution_count": null,
   "metadata": {},
   "outputs": [],
   "source": [
    "class A:\n",
    "    def __init__(self, list_1, list_2):\n",
    "        self.list1 = list_1\n",
    "        self.list2 = list_2\n",
    "\n",
    "    def __getattr__(self, item):\n",
    "        print 'Looking for %s'%(item)\n",
    "        if item in self.list1: return \"It is in list 1\"\n",
    "        elif item in self.list2: return \"It is in list 2\"\n",
    "        else: return \"It is in neither list 1 nor list 2\""
   ]
  },
  {
   "cell_type": "code",
   "execution_count": null,
   "metadata": {},
   "outputs": [],
   "source": [
    "a=A([1,2,3],[43,44,45])"
   ]
  },
  {
   "cell_type": "code",
   "execution_count": null,
   "metadata": {},
   "outputs": [],
   "source": [
    "a.list1"
   ]
  },
  {
   "cell_type": "code",
   "execution_count": null,
   "metadata": {},
   "outputs": [],
   "source": [
    "a.cane"
   ]
  },
  {
   "cell_type": "code",
   "execution_count": null,
   "metadata": {},
   "outputs": [],
   "source": [
    "a.1"
   ]
  },
  {
   "cell_type": "code",
   "execution_count": null,
   "metadata": {},
   "outputs": [],
   "source": [
    "b=A(['cane', 'gatto', 'topo'],['uomo','donna',[1,2]])"
   ]
  },
  {
   "cell_type": "code",
   "execution_count": null,
   "metadata": {},
   "outputs": [],
   "source": [
    "b.cane"
   ]
  },
  {
   "cell_type": "code",
   "execution_count": null,
   "metadata": {},
   "outputs": [],
   "source": [
    "b.donna"
   ]
  },
  {
   "cell_type": "code",
   "execution_count": null,
   "metadata": {},
   "outputs": [],
   "source": [
    "c=[1,2]\n",
    "b.c"
   ]
  },
  {
   "cell_type": "markdown",
   "metadata": {},
   "source": [
    "Note that the above code never generates infinite recursion. Can it happen if __setattr__ is also defined?"
   ]
  },
  {
   "cell_type": "markdown",
   "metadata": {},
   "source": [
    "## Yield"
   ]
  },
  {
   "cell_type": "code",
   "execution_count": null,
   "metadata": {},
   "outputs": [],
   "source": [
    "def print_a(n=None):\n",
    "    try:\n",
    "        s\n",
    "    except NameError:\n",
    "        s='a'\n",
    "        \n",
    "    while n is None:\n",
    "        s=s+'a'\n",
    "        yield(s)\n",
    "    \n",
    "g=print_a()"
   ]
  },
  {
   "cell_type": "code",
   "execution_count": null,
   "metadata": {},
   "outputs": [],
   "source": [
    "g.next(1)"
   ]
  },
  {
   "cell_type": "code",
   "execution_count": null,
   "metadata": {},
   "outputs": [],
   "source": [
    "def print_a(l,n=None):\n",
    "    \"\"\"this uses a workaround to make the generator dependant on\n",
    "    an external variable. a list l is linked on generator creation.\n",
    "    In place operations allow to share values between the generator \n",
    "    and the external namespace.\n",
    "    \n",
    "    l is a string of characters, on each iteration a \n",
    "    character 'a' is added to l, unless the \n",
    "    last character of l is not 'a', in that case iteration is terminated \n",
    "    \"\"\"\n",
    "    \n",
    "    while len(l)==0 or l[-1] == 'a':\n",
    "        l.append('a')\n",
    "        yield(''.join(l))\n",
    "\n",
    "l=[]\n",
    "g=print_a(l)"
   ]
  },
  {
   "cell_type": "code",
   "execution_count": null,
   "metadata": {},
   "outputs": [],
   "source": [
    "for i in range(3): print(g.next(),'\\n')\n",
    "print (\"---\\n\",''.join(l))"
   ]
  },
  {
   "cell_type": "code",
   "execution_count": null,
   "metadata": {},
   "outputs": [],
   "source": [
    "l.append('a')\n",
    "print(''.join(l))\n"
   ]
  },
  {
   "cell_type": "code",
   "execution_count": null,
   "metadata": {},
   "outputs": [],
   "source": [
    "g.next()\n"
   ]
  },
  {
   "cell_type": "code",
   "execution_count": null,
   "metadata": {},
   "outputs": [],
   "source": [
    "l.append('b')"
   ]
  },
  {
   "cell_type": "code",
   "execution_count": null,
   "metadata": {},
   "outputs": [],
   "source": [
    "g.next()\n"
   ]
  },
  {
   "cell_type": "code",
   "execution_count": null,
   "metadata": {},
   "outputs": [],
   "source": [
    "plt.close('all')"
   ]
  },
  {
   "cell_type": "code",
   "execution_count": null,
   "metadata": {},
   "outputs": [],
   "source": []
  }
 ],
 "metadata": {
  "kernelspec": {
   "display_name": "py36",
   "language": "python",
   "name": "py36"
  },
  "language_info": {
   "codemirror_mode": {
    "name": "ipython",
    "version": 3
   },
   "file_extension": ".py",
   "mimetype": "text/x-python",
   "name": "python",
   "nbconvert_exporter": "python",
   "pygments_lexer": "ipython3",
   "version": "3.6.4"
  }
 },
 "nbformat": 4,
 "nbformat_minor": 1
}
